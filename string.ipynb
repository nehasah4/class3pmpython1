{
 "cells": [
  {
   "cell_type": "code",
   "execution_count": 4,
   "id": "0e3424ef",
   "metadata": {},
   "outputs": [
    {
     "name": "stdout",
     "output_type": "stream",
     "text": [
      "hello world\n"
     ]
    }
   ],
   "source": [
    "a = \"hello \"\n",
    "b = \"world\"\n",
    "c = a+b\n",
    "print(c)"
   ]
  },
  {
   "cell_type": "code",
   "execution_count": 5,
   "id": "1461ca6e",
   "metadata": {},
   "outputs": [
    {
     "name": "stdout",
     "output_type": "stream",
     "text": [
      "hello world\n",
      "hello world\n",
      "\n"
     ]
    }
   ],
   "source": [
    "a = \"hello world\\n\"\n",
    "print(a*2)"
   ]
  },
  {
   "cell_type": "code",
   "execution_count": 6,
   "id": "3fc540c7",
   "metadata": {},
   "outputs": [
    {
     "data": {
      "text/plain": [
       "'e'"
      ]
     },
     "execution_count": 6,
     "metadata": {},
     "output_type": "execute_result"
    }
   ],
   "source": [
    "a = \"hello world\"\n",
    "a[1]"
   ]
  },
  {
   "cell_type": "code",
   "execution_count": 7,
   "id": "a4b59b51",
   "metadata": {},
   "outputs": [
    {
     "name": "stdout",
     "output_type": "stream",
     "text": [
      "e\n",
      "hello\n"
     ]
    }
   ],
   "source": [
    "a = \"hello world\"\n",
    "print(a[1])\n",
    "print(a[0:5])"
   ]
  },
  {
   "cell_type": "code",
   "execution_count": 8,
   "id": "df860749",
   "metadata": {},
   "outputs": [
    {
     "name": "stdout",
     "output_type": "stream",
     "text": [
      "e\n",
      "hello\n",
      "hlowr\n"
     ]
    }
   ],
   "source": [
    "a = \"hello world\"\n",
    "print(a[1])\n",
    "print(a[0:5])\n",
    "print(a[0:10:2])"
   ]
  },
  {
   "cell_type": "code",
   "execution_count": 11,
   "id": "6de2a821",
   "metadata": {},
   "outputs": [
    {
     "name": "stdout",
     "output_type": "stream",
     "text": [
      "hello world"
     ]
    }
   ],
   "source": [
    "a = \"hello world\"\n",
    "l = len(a)\n",
    "for i in range(l):\n",
    "    print(a[i],end = \"\")\n"
   ]
  },
  {
   "cell_type": "code",
   "execution_count": 1,
   "id": "048569f3",
   "metadata": {},
   "outputs": [
    {
     "name": "stdout",
     "output_type": "stream",
     "text": [
      "h\n",
      "e\n",
      "l\n",
      "l\n",
      "o\n",
      " \n",
      "w\n",
      "o\n",
      "r\n",
      "l\n",
      "d\n"
     ]
    }
   ],
   "source": [
    "i = 0\n",
    "a = \"hello world\"\n",
    "l = len(a)\n",
    "while i<l: \n",
    "    print(a[i])\n",
    "    i = i+1"
   ]
  },
  {
   "cell_type": "code",
   "execution_count": 6,
   "id": "8c2e007c",
   "metadata": {},
   "outputs": [
    {
     "name": "stdout",
     "output_type": "stream",
     "text": [
      "enter name =neha\n",
      " enter age =23\n",
      "enter add =kathamndu\n",
      "Hello world I am neha. I am from kathamndu. I am 23\n"
     ]
    }
   ],
   "source": [
    "name = input(\"enter name =\")\n",
    "age = int(input(\" enter age =\"))\n",
    "add = input(\"enter add =\")\n",
    "#info = \"hello world I am \"+name +\" I am from \"+str(add) + \"I am\"+ str()\n",
    "\n",
    "info = f\"Hello world I am {name}. I am from {add}. I am {age}\"\n",
    "print(info)"
   ]
  },
  {
   "cell_type": "code",
   "execution_count": null,
   "id": "25d09c80",
   "metadata": {},
   "outputs": [
    {
     "name": "stdout",
     "output_type": "stream",
     "text": [
      "enter n =2\n",
      "enter  name =apple\n",
      "enter price =100\n",
      "enter quantity =30\n",
      "enter  name =orange\n",
      "enter price =23\n"
     ]
    }
   ],
   "source": [
    "\n",
    "n = int(input(\"enter n =\"))\n",
    "for i in range(n):\n",
    "    name = input(\"enter  name =\")\n",
    "    price = int(input(\"enter price =\"))\n",
    "    quantity = int(input(\"enter quantity =\"))\n",
    "    total = price*quantity\n",
    "    info = info+f\"{name} {price} {quantity}{total}\\n\"\n",
    "print(info)"
   ]
  },
  {
   "cell_type": "code",
   "execution_count": 12,
   "id": "f53f5318",
   "metadata": {},
   "outputs": [
    {
     "name": "stdout",
     "output_type": "stream",
     "text": [
      "enter name =ram\n",
      "Yes\n",
      "1\n"
     ]
    }
   ],
   "source": [
    "a = \"Ram Shyam Hari Sita Gita\"\n",
    "name = input(\"enter name =\")\n",
    "if \"Ram\" in a:\n",
    "    print(\"Yes\")\n",
    "    print(a.count(\"Ram\"))\n",
    "else:\n",
    "    print(\"No\")"
   ]
  },
  {
   "cell_type": "code",
   "execution_count": 14,
   "id": "04433b45",
   "metadata": {},
   "outputs": [
    {
     "name": "stdout",
     "output_type": "stream",
     "text": [
      "enter name =neha\n",
      "No\n"
     ]
    }
   ],
   "source": [
    "a = \"Ram Shyam Hari Sita Gita\"\n",
    "name = input(\"enter name =\")\n",
    "if name in a:\n",
    "    print(\"Yes\")\n",
    "    print(a.count(\"name\"))\n",
    "else:\n",
    "    print(\"No\")"
   ]
  },
  {
   "cell_type": "code",
   "execution_count": 15,
   "id": "b6a44514",
   "metadata": {},
   "outputs": [
    {
     "name": "stdout",
     "output_type": "stream",
     "text": [
      "RAM SHYAM HARI SITA GITA\n",
      "ram shyam hari sita gita\n"
     ]
    }
   ],
   "source": [
    "a = \"Ram Shyam Hari Sita Gita\"\n",
    "print(a.upper())\n",
    "print(a.lower())\n"
   ]
  },
  {
   "cell_type": "code",
   "execution_count": 16,
   "id": "82b756f5",
   "metadata": {},
   "outputs": [
    {
     "name": "stdout",
     "output_type": "stream",
     "text": [
      "enter name =ram\n",
      "Yes\n",
      "0\n"
     ]
    }
   ],
   "source": [
    "a = \"Ram Shyam Hari Sita Gita\" .lower()\n",
    "name = input(\"enter name =\") .lower()\n",
    "if name in a:\n",
    "    print(\"Yes\")\n",
    "    print(a.count(\"name\"))\n",
    "else:\n",
    "    print(\"No\")"
   ]
  },
  {
   "cell_type": "code",
   "execution_count": 17,
   "id": "7b25ccc1",
   "metadata": {},
   "outputs": [
    {
     "name": "stdout",
     "output_type": "stream",
     "text": [
      "enter name =neha\n",
      "No\n"
     ]
    }
   ],
   "source": [
    "a = \"Ram Shyam Hari Sita Gita\" .lower()\n",
    "name = input(\"enter name =\") .lower()\n",
    "if name in a:\n",
    "    print(\"Yes\")\n",
    "    print(a.count(\"name\"))\n",
    "else:\n",
    "    print(\"No\")"
   ]
  },
  {
   "cell_type": "code",
   "execution_count": 18,
   "id": "f65cbe07",
   "metadata": {},
   "outputs": [
    {
     "name": "stdout",
     "output_type": "stream",
     "text": [
      "Krishna Shyam Hari Sita Gita\n"
     ]
    }
   ],
   "source": [
    "#replace()\n",
    "a = \"Ram Shyam Hari Sita Gita\" \n",
    "a = a.replace(\"Ram\",\"Krishna\")\n",
    "print(a)"
   ]
  },
  {
   "cell_type": "code",
   "execution_count": 19,
   "id": "8e346da6",
   "metadata": {},
   "outputs": [
    {
     "name": "stdout",
     "output_type": "stream",
     "text": [
      "Ram Shyam Krishna Sita Gita\n"
     ]
    }
   ],
   "source": [
    "a = \"Ram Shyam Hari Sita Gita\" \n",
    "a = a.replace(\"Hari\",\"Krishna\")\n",
    "print(a)"
   ]
  },
  {
   "cell_type": "code",
   "execution_count": null,
   "id": "b39fbd47",
   "metadata": {},
   "outputs": [],
   "source": []
  }
 ],
 "metadata": {
  "kernelspec": {
   "display_name": "Python 3 (ipykernel)",
   "language": "python",
   "name": "python3"
  },
  "language_info": {
   "codemirror_mode": {
    "name": "ipython",
    "version": 3
   },
   "file_extension": ".py",
   "mimetype": "text/x-python",
   "name": "python",
   "nbconvert_exporter": "python",
   "pygments_lexer": "ipython3",
   "version": "3.9.13"
  }
 },
 "nbformat": 4,
 "nbformat_minor": 5
}
