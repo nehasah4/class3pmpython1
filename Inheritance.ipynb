{
 "cells": [
  {
   "cell_type": "code",
   "execution_count": null,
   "id": "9456a6c5",
   "metadata": {},
   "outputs": [],
   "source": [
    "# class A:\n",
    "#     <methods>\n",
    "    \n",
    "# class B(A):\n",
    "#     <methods>\n",
    "    \n",
    "# C = B()"
   ]
  },
  {
   "cell_type": "code",
   "execution_count": 2,
   "id": "8c814f11",
   "metadata": {},
   "outputs": [
    {
     "name": "stdout",
     "output_type": "stream",
     "text": [
      "enter name =Neha\n",
      "enter age =23\n",
      "enter add =ktm\n",
      "Hello World  I am from Neha. I am from ktm. I am 23\n"
     ]
    }
   ],
   "source": [
    "class Data:\n",
    "    def __init__(self):\n",
    "        self.name = input(\"enter name =\")\n",
    "        self.age = input(\"enter age =\")\n",
    "        self.add = input(\"enter add =\")\n",
    "        \n",
    "class Info(Data):\n",
    "    def info(self):\n",
    "        print(f\"Hello World  I am from {self.name}. I am from {self.add}. I am {self.age}\")\n",
    "        \n",
    "obj = Info()\n",
    "obj.info()"
   ]
  },
  {
   "cell_type": "code",
   "execution_count": 3,
   "id": "72679835",
   "metadata": {},
   "outputs": [
    {
     "name": "stdout",
     "output_type": "stream",
     "text": [
      "enter name =Neha\n",
      "enter age =23\n",
      "enter add =ktm\n",
      "Hello World  I am from Neha. I am from ktm. I am 23\n",
      "Neha 23 ktm\n"
     ]
    }
   ],
   "source": [
    "class Data:\n",
    "    def __init__(self):\n",
    "        self.name = input(\"enter name =\")\n",
    "        self.age = input(\"enter age =\")\n",
    "        self.add = input(\"enter add =\")\n",
    "        \n",
    "class Info(Data):\n",
    "    def info(self):\n",
    "        print(f\"Hello World  I am from {self.name}. I am from {self.add}. I am {self.age}\")\n",
    "        \n",
    "obj = Info()\n",
    "obj.info()\n",
    "print(obj.name,obj.age,obj.add)"
   ]
  },
  {
   "cell_type": "code",
   "execution_count": 1,
   "id": "9771c093",
   "metadata": {},
   "outputs": [
    {
     "name": "stdout",
     "output_type": "stream",
     "text": [
      "enter name =Neha\n",
      "enter age =23\n",
      "enter add =ktm\n",
      "Hello World  I am from Neha. I am from ktm. I am 23\n",
      "Neha 23 ktm\n"
     ]
    }
   ],
   "source": [
    "class Data:\n",
    "    def __init__(self,name,age,add):\n",
    "        self.name = name\n",
    "        self.age = age\n",
    "        self.add = add\n",
    "    def data(self):\n",
    "        print(self.name,self.age,self.add)\n",
    "        \n",
    "class Info(Data):\n",
    "    def info(self):\n",
    "        print(f\"Hello World  I am from {self.name}. I am from {self.add}. I am {self.age}\")\n",
    "\n",
    "name = input(\"enter name =\")\n",
    "age = input(\"enter age =\")\n",
    "add = input(\"enter add =\")\n",
    "        \n",
    "obj = Info(name,age,add)\n",
    "obj.info()\n",
    "print(obj.name,obj.age,obj.add)"
   ]
  },
  {
   "cell_type": "code",
   "execution_count": 6,
   "id": "c69d44b3",
   "metadata": {},
   "outputs": [
    {
     "name": "stdout",
     "output_type": "stream",
     "text": [
      "enter name =Neha\n",
      "enter age =23\n",
      "enter add =ktm\n",
      "Hello World  I am from Neha. I am from ktm. I am 23\n",
      "Neha 23 ktm\n",
      "Neha 23 ktm\n"
     ]
    }
   ],
   "source": [
    "class Data:\n",
    "    def __init__(self,age,add):\n",
    "        self.age = age\n",
    "        self.add = add\n",
    "    def data(self):\n",
    "        print(self.name,self.age,self.add)\n",
    "        \n",
    "        \n",
    "class Info(Data):\n",
    "    def __init__(self,name,age,add):\n",
    "        self.name = name\n",
    "        Data.__init__(self,age,add)\n",
    "        \n",
    "        \n",
    "    def info(self):\n",
    "        print(f\"Hello World  I am from {self.name}. I am from {self.add}. I am {self.age}\")\n",
    "\n",
    "name = input(\"enter name =\")\n",
    "age = input(\"enter age =\")\n",
    "add = input(\"enter add =\")\n",
    "        \n",
    "obj = Info(name,age,add)\n",
    "obj.info()\n",
    "obj.data()\n",
    "print(obj.name,obj.age,obj.add)"
   ]
  },
  {
   "cell_type": "code",
   "execution_count": null,
   "id": "3f6b0676",
   "metadata": {},
   "outputs": [],
   "source": [
    "# Multilevel\n",
    "\n",
    "class A:\n",
    "    pass\n",
    "class B(A):\n",
    "    pass\n",
    "class C(B):\n",
    "    pass \n",
    "\n",
    "obj = C()"
   ]
  },
  {
   "cell_type": "code",
   "execution_count": null,
   "id": "4e9792e6",
   "metadata": {},
   "outputs": [],
   "source": [
    "# Multiclass\n",
    "\n",
    "class A:\n",
    "    pass\n",
    "class B:\n",
    "    pass\n",
    "class C(A,B):\n",
    "    pass \n",
    "\n",
    "obj = C()"
   ]
  },
  {
   "cell_type": "code",
   "execution_count": 9,
   "id": "e93c76a5",
   "metadata": {},
   "outputs": [
    {
     "name": "stdout",
     "output_type": "stream",
     "text": [
      "enter name =Neha\n",
      "enter age =23\n",
      "enter add =ktm\n",
      "Hello World  I am from Neha. I am from ktm. I am 23\n",
      "Neha 23 ktm\n",
      "Neha 23 ktm\n"
     ]
    }
   ],
   "source": [
    "#multilevel\n",
    "\n",
    "class Address:\n",
    "    def __init__(self,add):\n",
    "        self.add = add\n",
    "    def address(self):\n",
    "        print(self.add)\n",
    "\n",
    "class Age(Address):\n",
    "    def __init__(self,age,add):\n",
    "        self.age = age\n",
    "        Address. __init__(self,add)\n",
    "    def data(self):\n",
    "        print(self.name,self.age,self.add)\n",
    "        \n",
    "        \n",
    "class Name(Age):\n",
    "    def __init__(self,name,age,add):\n",
    "        self.name = name\n",
    "        Age.__init__(self,age,add)\n",
    "        \n",
    "        \n",
    "    def info(self):\n",
    "        print(f\"Hello World  I am from {self.name}. I am from {self.add}. I am {self.age}\")\n",
    "\n",
    "name = input(\"enter name =\")\n",
    "age = input(\"enter age =\")\n",
    "add = input(\"enter add =\")\n",
    "        \n",
    "obj = Info(name,age,add)\n",
    "obj.info()\n",
    "obj.data()\n",
    "print(obj.name,obj.age,obj.add)"
   ]
  },
  {
   "cell_type": "code",
   "execution_count": 10,
   "id": "2012b48f",
   "metadata": {},
   "outputs": [
    {
     "name": "stdout",
     "output_type": "stream",
     "text": [
      "enter name =Neha\n",
      "enter age =23\n",
      "enter add =ktm\n",
      "Hello World  I am from Neha. I am from ktm. I am 23\n",
      "Neha 23 ktm\n",
      "Neha 23 ktm\n"
     ]
    }
   ],
   "source": [
    "#multiclass\n",
    "\n",
    "class Address:\n",
    "    def __init__(self,add):\n",
    "        self.add = add\n",
    "    def address(self):\n",
    "        print(self.add)\n",
    "\n",
    "class Age:\n",
    "    def __init__(self,age):\n",
    "        self.age = age\n",
    "        \n",
    "    def data(self):\n",
    "        print(self.name,self.age)\n",
    "        \n",
    "        \n",
    "class Name(Age,Address):\n",
    "    def __init__(self,name,age,add):\n",
    "        self.name = name\n",
    "        Age.__init__(self,age)\n",
    "        Address. __init__(self,add)\n",
    "        \n",
    "        \n",
    "    def info(self):\n",
    "        print(f\"Hello World  I am from {self.name}. I am from {self.add}. I am {self.age}\")\n",
    "\n",
    "name = input(\"enter name =\")\n",
    "age = input(\"enter age =\")\n",
    "add = input(\"enter add =\")\n",
    "        \n",
    "obj = Info(name,age,add)\n",
    "obj.info()\n",
    "obj.data()\n",
    "print(obj.name,obj.age,obj.add)"
   ]
  },
  {
   "cell_type": "code",
   "execution_count": 12,
   "id": "37db7cfc",
   "metadata": {},
   "outputs": [
    {
     "name": "stdout",
     "output_type": "stream",
     "text": [
      "enter name =Neha\n",
      "enter age =23\n",
      "enter add =ktm\n",
      "Hello World  I am from Neha. I am 23\n",
      "Neha 23 ktm\n",
      "Neha\n"
     ]
    }
   ],
   "source": [
    "#incapsulation\n",
    "\n",
    "\n",
    "class Data:\n",
    "    def __init__(self,name,age,add):\n",
    "        self.name = name         #public\n",
    "        self._age = age          #protected\n",
    "        self.__add = add         #private\n",
    "    def data(self):\n",
    "        print(self.name,self._age,self.__add)\n",
    "        \n",
    "        \n",
    "class Info(Data):\n",
    "    \n",
    "        \n",
    "    def info(self):\n",
    "        print(f\"Hello World  I am from {self.name}. I am {self._age}\")\n",
    "\n",
    "name = input(\"enter name =\")\n",
    "age = input(\"enter age =\")\n",
    "add = input(\"enter add =\")\n",
    "        \n",
    "obj = Info(name,age,add)\n",
    "obj.info()\n",
    "obj.data()\n",
    "print(obj.name)\n",
    "#print(obj.age)\n",
    "#print(obj.__add)"
   ]
  },
  {
   "cell_type": "code",
   "execution_count": null,
   "id": "aade6277",
   "metadata": {},
   "outputs": [],
   "source": []
  }
 ],
 "metadata": {
  "kernelspec": {
   "display_name": "Python 3 (ipykernel)",
   "language": "python",
   "name": "python3"
  },
  "language_info": {
   "codemirror_mode": {
    "name": "ipython",
    "version": 3
   },
   "file_extension": ".py",
   "mimetype": "text/x-python",
   "name": "python",
   "nbconvert_exporter": "python",
   "pygments_lexer": "ipython3",
   "version": "3.9.13"
  }
 },
 "nbformat": 4,
 "nbformat_minor": 5
}
