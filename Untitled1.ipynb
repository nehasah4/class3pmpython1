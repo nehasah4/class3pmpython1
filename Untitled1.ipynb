{
 "cells": [
  {
   "cell_type": "code",
   "execution_count": null,
   "id": "525575b6",
   "metadata": {},
   "outputs": [],
   "source": [
    "#comparison operator\n",
    "#<> <= >= == !="
   ]
  },
  {
   "cell_type": "code",
   "execution_count": 2,
   "id": "1c33d1a5",
   "metadata": {},
   "outputs": [
    {
     "name": "stdout",
     "output_type": "stream",
     "text": [
      "True\n"
     ]
    }
   ],
   "source": [
    "a=10\n",
    "b=20\n",
    "print(a<b)"
   ]
  },
  {
   "cell_type": "code",
   "execution_count": 1,
   "id": "79227cdd",
   "metadata": {},
   "outputs": [
    {
     "name": "stdout",
     "output_type": "stream",
     "text": [
      "True\n"
     ]
    }
   ],
   "source": [
    "a=10\n",
    "b=6\n",
    "print(a!=b)"
   ]
  },
  {
   "cell_type": "code",
   "execution_count": 5,
   "id": "180fb492",
   "metadata": {},
   "outputs": [
    {
     "name": "stdout",
     "output_type": "stream",
     "text": [
      "enter a=10\n",
      "the value is even\n"
     ]
    }
   ],
   "source": [
    "a=int(input(\"enter a=\"))\n",
    "if a%2==0:\n",
    "    print(\"the value is even\")\n",
    "else:\n",
    "    print(\"the value is odd\")"
   ]
  },
  {
   "cell_type": "code",
   "execution_count": 6,
   "id": "8ccabf74",
   "metadata": {
    "scrolled": true
   },
   "outputs": [
    {
     "name": "stdout",
     "output_type": "stream",
     "text": [
      "enter a=10\n",
      "enter b=11\n",
      "11 is greater.\n"
     ]
    }
   ],
   "source": [
    "a=int(input(\"enter a=\"))\n",
    "b=int(input(\"enter b=\"))\n",
    "if a>b:\n",
    "    print(a,\"is greater.\")\n",
    "elif b>a:\n",
    "    print(b,\"is greater.\")\n",
    "else:\n",
    "    print(\"a and b both are equal\")"
   ]
  },
  {
   "cell_type": "markdown",
   "id": "862993f1",
   "metadata": {},
   "source": []
  },
  {
   "cell_type": "code",
   "execution_count": 8,
   "id": "450e65e1",
   "metadata": {
    "scrolled": true
   },
   "outputs": [
    {
     "name": "stdout",
     "output_type": "stream",
     "text": [
      "enter a=10\n",
      "enter b=11\n",
      "enter + - / *^\n",
      "Invalid operator\n"
     ]
    }
   ],
   "source": [
    "a=int(input(\"enter a=\"))\n",
    "b=int(input(\"enter b=\"))\n",
    "o=input(\"enter + - / *\")\n",
    "if o=='+':\n",
    "    print(a+b)\n",
    "elif o=='-':\n",
    "    print(a-b)\n",
    "elif o=='*':\n",
    "    print(a*b)\n",
    "elif o=='/':\n",
    "    print(a/b)\n",
    "else:\n",
    "    print(\"Invalid operator\")"
   ]
  },
  {
   "cell_type": "code",
   "execution_count": 2,
   "id": "c12b590a",
   "metadata": {
    "scrolled": true
   },
   "outputs": [
    {
     "name": "stdout",
     "output_type": "stream",
     "text": [
      "enter physics marks=33\n",
      "enter chemistry marks=56\n",
      "enter math marks=67\n",
      "enter english marks=78\n",
      "enter nepali marks=89\n",
      "The grade of the student= B\n"
     ]
    }
   ],
   "source": [
    "physics=int(input(\"enter physics marks=\"))\n",
    "chemistry=int(input(\"enter chemistry marks=\"))\n",
    "math=int(input(\"enter math marks=\"))\n",
    "english=int(input(\"enter english marks=\"))\n",
    "nepali=int(input(\"enter nepali marks=\"))\n",
    "\n",
    "total=physics+chemistry+math+english+nepali\n",
    "per=total/5\n",
    "\n",
    "if per>=80:\n",
    "    grade='A'\n",
    "elif per>=60:\n",
    "    grade='B'\n",
    "elif per>='45':\n",
    "    grade='c'\n",
    "else:\n",
    "    grade='F'\n",
    "    \n",
    "print(\"The grade of the student=\",grade)\n"
   ]
  },
  {
   "cell_type": "code",
   "execution_count": null,
   "id": "c78628c0",
   "metadata": {},
   "outputs": [],
   "source": [
    "#logical operator\n",
    "#and &\n",
    "#or /"
   ]
  },
  {
   "cell_type": "code",
   "execution_count": 7,
   "id": "2182d07a",
   "metadata": {},
   "outputs": [
    {
     "data": {
      "text/plain": [
       "0"
      ]
     },
     "execution_count": 7,
     "metadata": {},
     "output_type": "execute_result"
    }
   ],
   "source": [
    "1*1\n",
    "1*0\n",
    "0*1\n",
    "0*1"
   ]
  },
  {
   "cell_type": "code",
   "execution_count": 4,
   "id": "ded420b5",
   "metadata": {},
   "outputs": [
    {
     "data": {
      "text/plain": [
       "False"
      ]
     },
     "execution_count": 4,
     "metadata": {},
     "output_type": "execute_result"
    }
   ],
   "source": [
    "a=True\n",
    "b=False\n",
    "a and b"
   ]
  },
  {
   "cell_type": "code",
   "execution_count": 5,
   "id": "aa6f71d5",
   "metadata": {},
   "outputs": [
    {
     "data": {
      "text/plain": [
       "True"
      ]
     },
     "execution_count": 5,
     "metadata": {},
     "output_type": "execute_result"
    }
   ],
   "source": [
    "a=True\n",
    "b=False\n",
    "a or b"
   ]
  },
  {
   "cell_type": "code",
   "execution_count": 9,
   "id": "714e6a4a",
   "metadata": {},
   "outputs": [
    {
     "name": "stdout",
     "output_type": "stream",
     "text": [
      "enter a=10\n",
      "enter b=0\n",
      "enter + - / */\n",
      "the value of b cannot be zero\n"
     ]
    }
   ],
   "source": [
    "a=int(input(\"enter a=\"))\n",
    "b=int(input(\"enter b=\"))\n",
    "o=input(\"enter + - / *\")\n",
    "if o=='+':\n",
    "    print(a+b)\n",
    "elif o=='-':\n",
    "    print(a-b)\n",
    "elif o=='*':\n",
    "    print(a*b)\n",
    "elif o=='/' and b!=0:\n",
    "    print(a/b)\n",
    "elif o=='/' and b==0:\n",
    "    print(\"the value of b cannot be zero\")\n",
    "else:\n",
    "    print(\"Invalid operator\")"
   ]
  },
  {
   "cell_type": "code",
   "execution_count": 10,
   "id": "81bdcf59",
   "metadata": {},
   "outputs": [
    {
     "name": "stdout",
     "output_type": "stream",
     "text": [
      "enter physics marks=80\n",
      "enter chemistry marks=59\n",
      "enter math marks=78\n",
      "enter english marks=57\n",
      "enter nepali marks=45\n",
      "The grade of the student= B\n"
     ]
    }
   ],
   "source": [
    "physics=int(input(\"enter physics marks=\"))\n",
    "chemistry=int(input(\"enter chemistry marks=\"))\n",
    "math=int(input(\"enter math marks=\"))\n",
    "english=int(input(\"enter english marks=\"))\n",
    "nepali=int(input(\"enter nepali marks=\"))\n",
    "\n",
    "total=physics+chemistry+math+english+nepali\n",
    "per=total/5\n",
    "\n",
    "if per>=80 or per==80:\n",
    "    grade='A'\n",
    "elif per>=60 or per==60:\n",
    "    grade='B'\n",
    "elif per>='45' or per==45:\n",
    "    grade='c'\n",
    "else:\n",
    "    grade='F'\n",
    "    \n",
    "print(\"The grade of the student=\",grade)\n"
   ]
  },
  {
   "cell_type": "code",
   "execution_count": null,
   "id": "41e71f8a",
   "metadata": {},
   "outputs": [],
   "source": [
    "a=10\n",
    "b=4\n",
    "if a<b:\n",
    "    print(\"enter the val\")"
   ]
  }
 ],
 "metadata": {
  "kernelspec": {
   "display_name": "Python 3 (ipykernel)",
   "language": "python",
   "name": "python3"
  },
  "language_info": {
   "codemirror_mode": {
    "name": "ipython",
    "version": 3
   },
   "file_extension": ".py",
   "mimetype": "text/x-python",
   "name": "python",
   "nbconvert_exporter": "python",
   "pygments_lexer": "ipython3",
   "version": "3.9.13"
  }
 },
 "nbformat": 4,
 "nbformat_minor": 5
}
