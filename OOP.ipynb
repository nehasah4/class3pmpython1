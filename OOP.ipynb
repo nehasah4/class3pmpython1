{
 "cells": [
  {
   "cell_type": "code",
   "execution_count": null,
   "id": "0bfdb57a",
   "metadata": {},
   "outputs": [],
   "source": [
    "# class Python:   #class\n",
    "#     <methods>\n",
    "    \n",
    "    \n",
    "# obj = Python()    #object"
   ]
  },
  {
   "cell_type": "code",
   "execution_count": 2,
   "id": "92003df9",
   "metadata": {},
   "outputs": [
    {
     "name": "stdout",
     "output_type": "stream",
     "text": [
      "Hello World\n"
     ]
    }
   ],
   "source": [
    "class Hello:\n",
    "    def hello(self):     # class bhitra define garna paryo bhane self use garne\n",
    "        print(\"Hello World\")\n",
    "        \n",
    "        \n",
    "obj = Hello()\n",
    "obj.hello()\n",
    "        "
   ]
  },
  {
   "cell_type": "code",
   "execution_count": 3,
   "id": "895b452b",
   "metadata": {},
   "outputs": [
    {
     "name": "stdout",
     "output_type": "stream",
     "text": [
      "Hello World\n"
     ]
    }
   ],
   "source": [
    "class Hello:\n",
    "    @staticmethod      #class baira define garna paryo bhane staticmethod use hunxa\n",
    "    def hello():\n",
    "        print(\"Hello World\")\n",
    "        \n",
    "        \n",
    "obj = Hello()\n",
    "obj.hello()\n",
    "        "
   ]
  },
  {
   "cell_type": "code",
   "execution_count": 5,
   "id": "c92d4f89",
   "metadata": {},
   "outputs": [
    {
     "name": "stdout",
     "output_type": "stream",
     "text": [
      "500\n",
      "500\n"
     ]
    }
   ],
   "source": [
    "class Cal:\n",
    "    def area(self,l,b):\n",
    "        a = l*b\n",
    "        print(a)\n",
    "        \n",
    "        \n",
    "    def volume(self,l,b,h):\n",
    "        v = l*b*h\n",
    "        print(v)\n",
    "        \n",
    "        \n",
    "obj = Cal()\n",
    "obj.area(50,10)\n",
    "obj.volume(50,5,2)"
   ]
  },
  {
   "cell_type": "code",
   "execution_count": 7,
   "id": "1e1e1b59",
   "metadata": {},
   "outputs": [
    {
     "name": "stdout",
     "output_type": "stream",
     "text": [
      "enter l = 10\n",
      "enter b =20\n",
      "enter h =30\n",
      "200\n",
      "6000\n"
     ]
    }
   ],
   "source": [
    "class Cal:\n",
    "    def __init__(self,l,b,h):\n",
    "        self.l = l\n",
    "        self.b = b\n",
    "        self.h = h\n",
    "        \n",
    "    def area(self):\n",
    "        a = self.l*self.b\n",
    "        print(a)\n",
    "        \n",
    "        \n",
    "    def volume(self):\n",
    "        v = self.l*self.b*self.h\n",
    "        print(v)\n",
    "        \n",
    "l = int(input(\"enter l = \")) \n",
    "b = int(input(\"enter b =\"))\n",
    "h = int(input(\"enter h =\"))\n",
    "obj = Cal(l,b,h)\n",
    "obj.area()\n",
    "obj.volume()"
   ]
  },
  {
   "cell_type": "code",
   "execution_count": 11,
   "id": "be3d0df5",
   "metadata": {},
   "outputs": [
    {
     "name": "stdout",
     "output_type": "stream",
     "text": [
      "enter l = 10\n",
      "enter b =20\n",
      "enter h =30\n",
      "200\n",
      "6000\n"
     ]
    }
   ],
   "source": [
    "class Area:\n",
    "    def __init__(self,l,b):\n",
    "        self.l = l\n",
    "        self.b = b\n",
    "        \n",
    "    def area(self):\n",
    "        a = self.l*self.b\n",
    "        print(a)\n",
    "        \n",
    "        \n",
    "class Volume:\n",
    "    def __init__(self,l,b,h):\n",
    "        self.l = l\n",
    "        self.b = b\n",
    "        self.h = h\n",
    "    def volume(self):\n",
    "        v = self.l*self.b*self.h\n",
    "        print(v)\n",
    "        \n",
    "l = int(input(\"enter l = \")) \n",
    "b = int(input(\"enter b =\"))\n",
    "h = int(input(\"enter h =\"))\n",
    "obj1 = Area(l,b)\n",
    "obj2 = Volume(l,b,h)\n",
    "\n",
    "\n",
    "obj1.area()\n",
    "obj2.volume()"
   ]
  },
  {
   "cell_type": "code",
   "execution_count": null,
   "id": "1af907ea",
   "metadata": {},
   "outputs": [],
   "source": [
    "info =str()\n",
    "n = int(input(\"enter n =\"))\n",
    "for i in range(n):\n",
    "    name = input(\"enter  name =\")\n",
    "    price = int(input(\"enter price =\"))\n",
    "    quantity = int(input(\"enter quantity =\"))\n",
    "    total = price*quantityi\n",
    "    info = info+f\"{name} {price} {quantity}{total}\\n\"\n",
    "print(info)\n",
    "\n",
    "\n",
    "with open('data.txt','w') as file:\n",
    "    file.write(info)"
   ]
  },
  {
   "cell_type": "code",
   "execution_count": 2,
   "id": "10a3c223",
   "metadata": {},
   "outputs": [
    {
     "name": "stdout",
     "output_type": "stream",
     "text": [
      "enter n =1\n",
      "enter name =apple\n",
      "enter price =200\n",
      "enter quantity =2\n",
      "400\n",
      "apple 200 2400\n",
      "\n"
     ]
    }
   ],
   "source": [
    "grand_total = 0\n",
    "bill = str()\n",
    "\n",
    "class File:\n",
    "    def __init__(self,name,price,quantity):\n",
    "        self.info = str()\n",
    "        self.name = name\n",
    "        self.price = price\n",
    "        self.quantity = quantity\n",
    "        \n",
    "        \n",
    "    def billing(self):\n",
    "        global grand_total,bill\n",
    "        total = self.price*self.quantity\n",
    "        info = self.info+f\"{self.name} {self.price} {self.quantity}{total}\\n\"\n",
    "        bill = bill +info\n",
    "        grand_total = total+grand_total\n",
    "        \n",
    "        \n",
    "        \n",
    "n = int(input(\"enter n =\"))\n",
    "for i in range(n):\n",
    "    name = input(\"enter name =\")\n",
    "    price = int(input(\"enter price =\"))\n",
    "    quantity = int (input(\"enter quantity =\"))\n",
    "    \n",
    "    \n",
    "    obj = File(name,price,quantity)\n",
    "    obj.billing()\n",
    "    \n",
    "    \n",
    "print(grand_total)\n",
    "print(bill)\n",
    "\n",
    "\n"
   ]
  },
  {
   "cell_type": "code",
   "execution_count": null,
   "id": "c3486c6d",
   "metadata": {},
   "outputs": [],
   "source": []
  }
 ],
 "metadata": {
  "kernelspec": {
   "display_name": "Python 3 (ipykernel)",
   "language": "python",
   "name": "python3"
  },
  "language_info": {
   "codemirror_mode": {
    "name": "ipython",
    "version": 3
   },
   "file_extension": ".py",
   "mimetype": "text/x-python",
   "name": "python",
   "nbconvert_exporter": "python",
   "pygments_lexer": "ipython3",
   "version": "3.9.13"
  }
 },
 "nbformat": 4,
 "nbformat_minor": 5
}
