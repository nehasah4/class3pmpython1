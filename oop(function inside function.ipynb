{
 "cells": [
  {
   "cell_type": "code",
   "execution_count": 1,
   "id": "aa2e22be",
   "metadata": {},
   "outputs": [
    {
     "name": "stdout",
     "output_type": "stream",
     "text": [
      "Ram\n",
      "<class '__main__.Info'>\n"
     ]
    }
   ],
   "source": [
    "class Info:\n",
    "    def __init__(self):\n",
    "        self.name = \"Ram\"\n",
    "        self.age = 45\n",
    "        self.add = \"Kathmandu\"\n",
    "            \n",
    "    def __str__(self):\n",
    "        return self.name\n",
    "    \n",
    "obj = Info()\n",
    "print(obj)\n",
    "print(type(obj))"
   ]
  },
  {
   "cell_type": "code",
   "execution_count": 3,
   "id": "08c8ea0f",
   "metadata": {},
   "outputs": [
    {
     "name": "stdout",
     "output_type": "stream",
     "text": [
      "Ram\n",
      "<class '__main__.Info'>\n",
      "Ram\n"
     ]
    }
   ],
   "source": [
    "class Info:\n",
    "    def __init__(self):\n",
    "        self.name = \"Ram\"\n",
    "        self.age = 45\n",
    "        self.add = \"Kathmandu\"\n",
    "            \n",
    "    def __str__(self):\n",
    "        return self.name\n",
    "    \n",
    "obj = Info()\n",
    "print(obj)\n",
    "print(type(obj))\n",
    "print(obj.__str__())"
   ]
  },
  {
   "cell_type": "code",
   "execution_count": 5,
   "id": "a843dbf1",
   "metadata": {},
   "outputs": [
    {
     "ename": "NameError",
     "evalue": "name 'Shyam' is not defined",
     "output_type": "error",
     "traceback": [
      "\u001b[1;31m---------------------------------------------------------------------------\u001b[0m",
      "\u001b[1;31mNameError\u001b[0m                                 Traceback (most recent call last)",
      "\u001b[1;32m~\\AppData\\Local\\Temp\\ipykernel_26164\\3517410008.py\u001b[0m in \u001b[0;36m<module>\u001b[1;34m\u001b[0m\n\u001b[0;32m      9\u001b[0m \u001b[1;33m\u001b[0m\u001b[0m\n\u001b[0;32m     10\u001b[0m \u001b[0mobj\u001b[0m \u001b[1;33m=\u001b[0m \u001b[0mInfo\u001b[0m\u001b[1;33m(\u001b[0m\u001b[1;33m)\u001b[0m\u001b[1;33m\u001b[0m\u001b[1;33m\u001b[0m\u001b[0m\n\u001b[1;32m---> 11\u001b[1;33m \u001b[0mprint\u001b[0m\u001b[1;33m(\u001b[0m\u001b[0mobj\u001b[0m \u001b[1;33m+\u001b[0m \u001b[0mShyam\u001b[0m\u001b[1;33m)\u001b[0m\u001b[1;33m\u001b[0m\u001b[1;33m\u001b[0m\u001b[0m\n\u001b[0m\u001b[0;32m     12\u001b[0m \u001b[0mprint\u001b[0m\u001b[1;33m(\u001b[0m\u001b[0mtype\u001b[0m\u001b[1;33m(\u001b[0m\u001b[0mobj\u001b[0m\u001b[1;33m)\u001b[0m\u001b[1;33m)\u001b[0m\u001b[1;33m\u001b[0m\u001b[1;33m\u001b[0m\u001b[0m\n",
      "\u001b[1;31mNameError\u001b[0m: name 'Shyam' is not defined"
     ]
    }
   ],
   "source": [
    "class Info:\n",
    "    def __init__(self):\n",
    "        self.name = \"Ram\"\n",
    "        self.age = 45\n",
    "        self.add = \"Kathmandu\"\n",
    "            \n",
    "    def __str__(self):\n",
    "        return self.name\n",
    "    \n",
    "obj = Info()\n",
    "print(obj + Shyam)\n",
    "print(type(obj))"
   ]
  },
  {
   "cell_type": "code",
   "execution_count": 9,
   "id": "447a43f8",
   "metadata": {},
   "outputs": [
    {
     "name": "stdout",
     "output_type": "stream",
     "text": [
      "(1,5)\n"
     ]
    }
   ],
   "source": [
    "class Point:\n",
    "    def __init__(self,x =0,y = 0):\n",
    "        self.x = x\n",
    "        self.y =y\n",
    "        \n",
    "    def __str__(self):\n",
    "        return  f\"({self.x},{self.y})\"\n",
    "    \n",
    "    def __add__(self,other):\n",
    "        x = self.x + other.x\n",
    "        y = self.y + other.y\n",
    "        return Point(x,y)\n",
    "\n",
    "    \n",
    "p1 = Point(2,3)\n",
    "p2 = Point(-1,2)\n",
    "print(p1+p2)"
   ]
  },
  {
   "cell_type": "code",
   "execution_count": 12,
   "id": "b0306fe2",
   "metadata": {},
   "outputs": [
    {
     "name": "stdout",
     "output_type": "stream",
     "text": [
      "Hello b\n",
      "Hello b\n"
     ]
    }
   ],
   "source": [
    "def a():\n",
    "    data = \"\"\n",
    "    def b():\n",
    "        \n",
    "        nonlocal data\n",
    "        data = \"Hello b\"\n",
    "        print(data)\n",
    "        \n",
    "    b()\n",
    "    print(data)\n",
    "    \n",
    "a()\n",
    "\n",
    "        \n",
    "    "
   ]
  },
  {
   "cell_type": "code",
   "execution_count": 13,
   "id": "f8da73f3",
   "metadata": {},
   "outputs": [
    {
     "name": "stdout",
     "output_type": "stream",
     "text": [
      "Hello World\n"
     ]
    }
   ],
   "source": [
    "#function inside funtion\n",
    "\n",
    "\n",
    "def outer_function():\n",
    "    value = \"Hello World\"\n",
    "    def inner_function():\n",
    "        print(value)\n",
    "    return inner_function()\n",
    "\n",
    "\n",
    "outer_function()\n"
   ]
  },
  {
   "cell_type": "code",
   "execution_count": 15,
   "id": "1875dce0",
   "metadata": {},
   "outputs": [
    {
     "name": "stdout",
     "output_type": "stream",
     "text": [
      "Hello World\n"
     ]
    }
   ],
   "source": [
    "#function inside funtion \n",
    "\n",
    "value = \"Hello World\"\n",
    "def outer_function():\n",
    "    \n",
    "    def inner_function():\n",
    "        print(value)\n",
    "    return inner_function()\n",
    "\n",
    "\n",
    "outer_function()\n"
   ]
  },
  {
   "cell_type": "code",
   "execution_count": 16,
   "id": "cb14877a",
   "metadata": {},
   "outputs": [
    {
     "name": "stdout",
     "output_type": "stream",
     "text": [
      "Hello World\n"
     ]
    }
   ],
   "source": [
    "#function inside funtion with decorator(@ is used in decorator)\n",
    "\n",
    "\n",
    "def outer_function(fun):\n",
    "    \n",
    "    def inner_function():\n",
    "        x = fun()\n",
    "    return inner_function()\n",
    "\n",
    "\n",
    "@outer_function\n",
    "def hello():\n",
    "    print(\"Hello World\")\n"
   ]
  },
  {
   "cell_type": "code",
   "execution_count": 19,
   "id": "a02b1989",
   "metadata": {},
   "outputs": [
    {
     "data": {
      "text/plain": [
       "'hello world'"
      ]
     },
     "execution_count": 19,
     "metadata": {},
     "output_type": "execute_result"
    }
   ],
   "source": [
    "def strings(function):\n",
    "    def wrapper():\n",
    "        fun = function()\n",
    "        x = fun.lower()\n",
    "        return x\n",
    "    return wrapper\n",
    "\n",
    "@strings\n",
    "def info():\n",
    "    return 'Hello World'\n",
    "\n",
    "\n",
    "\n",
    "info()"
   ]
  },
  {
   "cell_type": "code",
   "execution_count": null,
   "id": "7441a714",
   "metadata": {},
   "outputs": [],
   "source": []
  }
 ],
 "metadata": {
  "kernelspec": {
   "display_name": "Python 3 (ipykernel)",
   "language": "python",
   "name": "python3"
  },
  "language_info": {
   "codemirror_mode": {
    "name": "ipython",
    "version": 3
   },
   "file_extension": ".py",
   "mimetype": "text/x-python",
   "name": "python",
   "nbconvert_exporter": "python",
   "pygments_lexer": "ipython3",
   "version": "3.9.13"
  }
 },
 "nbformat": 4,
 "nbformat_minor": 5
}
