{
 "cells": [
  {
   "cell_type": "code",
   "execution_count": null,
   "id": "a70f2108",
   "metadata": {},
   "outputs": [],
   "source": [
    "# python collection\n",
    "# -list\n",
    "# -tuple\n",
    "# -Dictionary\n",
    "# -set"
   ]
  },
  {
   "cell_type": "code",
   "execution_count": null,
   "id": "7fed176a",
   "metadata": {},
   "outputs": [],
   "source": [
    " #list\n",
    "# -multiple and duplicate data\n",
    "# -Indexing\n",
    "# -Ordered\n",
    "# -Mutable"
   ]
  },
  {
   "cell_type": "code",
   "execution_count": 1,
   "id": "498332dd",
   "metadata": {},
   "outputs": [
    {
     "name": "stdout",
     "output_type": "stream",
     "text": [
      "<class 'list'>\n",
      "<class 'list'>\n",
      "<class 'list'>\n"
     ]
    }
   ],
   "source": [
    "a = [1,2,3,4,5,6]\n",
    "b = ['Apple','Ball','Cat','Dog','Apple']\n",
    "c = list()\n",
    "\n",
    "print(type(a))\n",
    "print(type(b))\n",
    "print(type(c))\n",
    "           "
   ]
  },
  {
   "cell_type": "code",
   "execution_count": 2,
   "id": "e4e09767",
   "metadata": {},
   "outputs": [
    {
     "name": "stdout",
     "output_type": "stream",
     "text": [
      "[1, 2, 3, 4, 5, 6]\n",
      "['Apple', 'Ball', 'Cat', 'Dog', 'Apple']\n",
      "[]\n"
     ]
    },
    {
     "data": {
      "text/plain": [
       "[]"
      ]
     },
     "execution_count": 2,
     "metadata": {},
     "output_type": "execute_result"
    }
   ],
   "source": [
    "print(a)\n",
    "print(b)\n",
    "print(c)\n",
    "\n",
    "[1,2,3,4,5,6]\n",
    "['Apple','Ball','Cat','Dog','Apple']\n",
    "[]"
   ]
  },
  {
   "cell_type": "code",
   "execution_count": 3,
   "id": "bbda7085",
   "metadata": {},
   "outputs": [
    {
     "name": "stdout",
     "output_type": "stream",
     "text": [
      "Apple\n",
      "Ball\n"
     ]
    }
   ],
   "source": [
    "b = ['Apple','Ball','Cat','Dog','Apple']\n",
    "print(b[0])\n",
    "print(b[1])"
   ]
  },
  {
   "cell_type": "code",
   "execution_count": 4,
   "id": "18730420",
   "metadata": {},
   "outputs": [
    {
     "name": "stdout",
     "output_type": "stream",
     "text": [
      "Apple\n",
      "Ball\n",
      "Cat\n"
     ]
    }
   ],
   "source": [
    "b = ['Apple','Ball','Cat','Dog','Apple']\n",
    "print(b[0])\n",
    "print(b[1])\n",
    "print(b[2])"
   ]
  },
  {
   "cell_type": "code",
   "execution_count": 6,
   "id": "6fd55d3d",
   "metadata": {},
   "outputs": [
    {
     "data": {
      "text/plain": [
       "['Apple', 'Ball', 'Cat']"
      ]
     },
     "execution_count": 6,
     "metadata": {},
     "output_type": "execute_result"
    }
   ],
   "source": [
    "a = ['Apple','Ball','Cat','Dog','Apple']\n",
    "b = a[0:3]\n",
    "b"
   ]
  },
  {
   "cell_type": "code",
   "execution_count": 8,
   "id": "d1f009da",
   "metadata": {},
   "outputs": [
    {
     "data": {
      "text/plain": [
       "['Apple', 'Cat', 'Apple']"
      ]
     },
     "execution_count": 8,
     "metadata": {},
     "output_type": "execute_result"
    }
   ],
   "source": [
    "a = ['Apple','Ball','Cat','Dog','Apple']\n",
    "a[0:6:2]"
   ]
  },
  {
   "cell_type": "code",
   "execution_count": 9,
   "id": "5cff160d",
   "metadata": {},
   "outputs": [
    {
     "name": "stdout",
     "output_type": "stream",
     "text": [
      "['Apple', 'Ball', 'Cat', 'Dog', 'Apple', 1, 2, 3]\n"
     ]
    }
   ],
   "source": [
    "#we can use operator such as + * in the list\n",
    "a = ['Apple','Ball','Cat','Dog','Apple']\n",
    "b = [1,2,3]\n",
    "c = a+b\n",
    "print(c)"
   ]
  },
  {
   "cell_type": "code",
   "execution_count": 10,
   "id": "4f6e783c",
   "metadata": {},
   "outputs": [
    {
     "name": "stdout",
     "output_type": "stream",
     "text": [
      "['Apple', 'Ball', 'Cat', 'Dog', 'Apple', 'Apple', 'Ball', 'Cat', 'Dog', 'Apple']\n"
     ]
    }
   ],
   "source": [
    "a = ['Apple','Ball','Cat','Dog','Apple']\n",
    "print(a*2)"
   ]
  },
  {
   "cell_type": "code",
   "execution_count": 11,
   "id": "d152a40a",
   "metadata": {},
   "outputs": [
    {
     "name": "stdout",
     "output_type": "stream",
     "text": [
      "['Apple', 'Ball', 'Cat', 'Dog', 'Apple', 'Apple', 'Ball', 'Cat', 'Dog', 'Apple', 'Apple', 'Ball', 'Cat', 'Dog', 'Apple', 'Apple', 'Ball', 'Cat', 'Dog', 'Apple']\n"
     ]
    }
   ],
   "source": [
    "a = ['Apple','Ball','Cat','Dog','Apple']\n",
    "print(a*4)"
   ]
  },
  {
   "cell_type": "code",
   "execution_count": 12,
   "id": "58cffa19",
   "metadata": {},
   "outputs": [
    {
     "name": "stdout",
     "output_type": "stream",
     "text": [
      "enter n =5\n",
      "enter x =56\n",
      "enter x =67\n",
      "enter x =87\n",
      "enter x =47\n",
      "enter x =78\n",
      "[56, 67, 87, 47, 78]\n"
     ]
    }
   ],
   "source": [
    "a = []\n",
    "n = int(input(\"enter n =\"))\n",
    "for i in range(n):\n",
    "    x = int(input(\"enter x =\"))\n",
    "    a = a+[x]\n",
    "    \n",
    "print(a)\n",
    "        "
   ]
  },
  {
   "cell_type": "code",
   "execution_count": 14,
   "id": "1085afb9",
   "metadata": {},
   "outputs": [
    {
     "name": "stdout",
     "output_type": "stream",
     "text": [
      "enter n =5\n",
      "enter x =neha\n",
      "enter x =komal\n",
      "enter x =pooja\n",
      "enter x =preesha\n",
      "enter x =bhgf\n",
      "['neha', 'komal', 'pooja', 'preesha', 'bhgf']\n"
     ]
    }
   ],
   "source": [
    "a = []\n",
    "n = int(input(\"enter n =\"))\n",
    "for i in range(n):\n",
    "    x = str(input(\"enter x =\"))\n",
    "    a = a+[x]\n",
    "    \n",
    "print(a)"
   ]
  },
  {
   "cell_type": "code",
   "execution_count": 15,
   "id": "fd602307",
   "metadata": {},
   "outputs": [
    {
     "name": "stdout",
     "output_type": "stream",
     "text": [
      "enter n =4\n",
      "enter x =7\n",
      "enter x =neha\n",
      "enter x =10.4\n",
      "enter x =bhgf\n",
      "['7', 'neha', '10.4', 'bhgf']\n"
     ]
    }
   ],
   "source": [
    "a = []\n",
    "n = int(input(\"enter n =\"))\n",
    "for i in range(n):\n",
    "    x = (input(\"enter x =\"))\n",
    "    a = a+[x]\n",
    "    \n",
    "print(a)"
   ]
  },
  {
   "cell_type": "code",
   "execution_count": 16,
   "id": "8a54f787",
   "metadata": {},
   "outputs": [
    {
     "name": "stdout",
     "output_type": "stream",
     "text": [
      "the max value in a 456\n",
      "The min value in a 1\n",
      "The sum of the list is 849\n",
      "The avg of the no in the list is 169.8\n"
     ]
    }
   ],
   "source": [
    "a = [234, 456, 34, 67, 58]\n",
    "print(\"the max value in a\",max(a))\n",
    "print(\"The min value in a\",min(b))\n",
    "print(\"The sum of the list is\",sum(a))\n",
    "print(\"The avg of the no in the list is\",sum(a)/len(a))"
   ]
  },
  {
   "cell_type": "code",
   "execution_count": 17,
   "id": "cf49611f",
   "metadata": {},
   "outputs": [
    {
     "name": "stdout",
     "output_type": "stream",
     "text": [
      "the max value in a 456\n",
      "The min value in a 1\n",
      "The sum of the list is 849\n",
      "The avg of the no in the list is 169.8\n",
      "[34, 58, 67, 234, 456]\n",
      "[456, 234, 67, 58, 34]\n"
     ]
    }
   ],
   "source": [
    "# mutable\n",
    "a = [234, 456, 34, 67, 58]\n",
    "print(\"the max value in a\",max(a))\n",
    "print(\"The min value in a\",min(b))\n",
    "print(\"The sum of the list is\",sum(a))\n",
    "print(\"The avg of the no in the list is\",sum(a)/len(a))\n",
    "a.sort()\n",
    "print(a)\n",
    "a.reverse()\n",
    "print(a)"
   ]
  },
  {
   "cell_type": "code",
   "execution_count": null,
   "id": "f7b2f37b",
   "metadata": {},
   "outputs": [],
   "source": [
    "# input data\n",
    "# apend() insert() extend()\n",
    "\n",
    "# delete data\n",
    "\n",
    "# del remove() pop()\n",
    "\n"
   ]
  },
  {
   "cell_type": "code",
   "execution_count": 19,
   "id": "e33e7fbf",
   "metadata": {},
   "outputs": [
    {
     "data": {
      "text/plain": [
       "['Apple', 'Ball']"
      ]
     },
     "execution_count": 19,
     "metadata": {},
     "output_type": "execute_result"
    }
   ],
   "source": [
    "a = []\n",
    "a.append(\"Apple\")\n",
    "a.append(\"Ball\")\n",
    "a"
   ]
  },
  {
   "cell_type": "code",
   "execution_count": 20,
   "id": "35b2e1cf",
   "metadata": {},
   "outputs": [
    {
     "data": {
      "text/plain": [
       "['Apple', 'Ball', 'Cat', 'Dog', 'Apple', 'Fish']"
      ]
     },
     "execution_count": 20,
     "metadata": {},
     "output_type": "execute_result"
    }
   ],
   "source": [
    "a = ['Apple','Ball','Cat','Dog','Apple']\n",
    "a.append(\"Fish\")\n",
    "a"
   ]
  },
  {
   "cell_type": "code",
   "execution_count": 22,
   "id": "9c4fb30b",
   "metadata": {},
   "outputs": [
    {
     "data": {
      "text/plain": [
       "['Apple', 'Ball', 'rat', 'Cat', 'Dog', 'Apple']"
      ]
     },
     "execution_count": 22,
     "metadata": {},
     "output_type": "execute_result"
    }
   ],
   "source": [
    "a = ['Apple','Ball','Cat','Dog','Apple']\n",
    "a.insert(2,\"rat\")\n",
    "a"
   ]
  },
  {
   "cell_type": "code",
   "execution_count": 23,
   "id": "2394d2e7",
   "metadata": {},
   "outputs": [
    {
     "data": {
      "text/plain": [
       "['Apple', 'Ball', 'Cat', 'Dog', 'Apple', 1, 2, 3, 4, 5, 6, 7, 8, 9]"
      ]
     },
     "execution_count": 23,
     "metadata": {},
     "output_type": "execute_result"
    }
   ],
   "source": [
    "a = ['Apple','Ball','Cat','Dog','Apple']\n",
    "a.extend([1,2,3,4,5,6,7,8,9])\n",
    "a"
   ]
  },
  {
   "cell_type": "code",
   "execution_count": 24,
   "id": "3b6e6d71",
   "metadata": {},
   "outputs": [
    {
     "ename": "TypeError",
     "evalue": "list.extend() takes exactly one argument (9 given)",
     "output_type": "error",
     "traceback": [
      "\u001b[1;31m---------------------------------------------------------------------------\u001b[0m",
      "\u001b[1;31mTypeError\u001b[0m                                 Traceback (most recent call last)",
      "\u001b[1;32m~\\AppData\\Local\\Temp\\ipykernel_22240\\3838904618.py\u001b[0m in \u001b[0;36m<module>\u001b[1;34m\u001b[0m\n\u001b[0;32m      1\u001b[0m \u001b[0ma\u001b[0m \u001b[1;33m=\u001b[0m \u001b[1;33m[\u001b[0m\u001b[1;34m'Apple'\u001b[0m\u001b[1;33m,\u001b[0m\u001b[1;34m'Ball'\u001b[0m\u001b[1;33m,\u001b[0m\u001b[1;34m'Cat'\u001b[0m\u001b[1;33m,\u001b[0m\u001b[1;34m'Dog'\u001b[0m\u001b[1;33m,\u001b[0m\u001b[1;34m'Apple'\u001b[0m\u001b[1;33m]\u001b[0m\u001b[1;33m\u001b[0m\u001b[1;33m\u001b[0m\u001b[0m\n\u001b[1;32m----> 2\u001b[1;33m \u001b[0ma\u001b[0m\u001b[1;33m.\u001b[0m\u001b[0mextend\u001b[0m\u001b[1;33m(\u001b[0m\u001b[1;36m1\u001b[0m\u001b[1;33m,\u001b[0m\u001b[1;36m2\u001b[0m\u001b[1;33m,\u001b[0m\u001b[1;36m3\u001b[0m\u001b[1;33m,\u001b[0m\u001b[1;36m4\u001b[0m\u001b[1;33m,\u001b[0m\u001b[1;36m5\u001b[0m\u001b[1;33m,\u001b[0m\u001b[1;36m6\u001b[0m\u001b[1;33m,\u001b[0m\u001b[1;36m7\u001b[0m\u001b[1;33m,\u001b[0m\u001b[1;36m8\u001b[0m\u001b[1;33m,\u001b[0m\u001b[1;36m9\u001b[0m\u001b[1;33m)\u001b[0m\u001b[1;33m\u001b[0m\u001b[1;33m\u001b[0m\u001b[0m\n\u001b[0m\u001b[0;32m      3\u001b[0m \u001b[0ma\u001b[0m\u001b[1;33m\u001b[0m\u001b[1;33m\u001b[0m\u001b[0m\n",
      "\u001b[1;31mTypeError\u001b[0m: list.extend() takes exactly one argument (9 given)"
     ]
    }
   ],
   "source": [
    "a = ['Apple','Ball','Cat','Dog','Apple']\n",
    "a.extend(1,2,3,4,5,6,7,8,9)\n",
    "a"
   ]
  },
  {
   "cell_type": "code",
   "execution_count": 25,
   "id": "51995818",
   "metadata": {},
   "outputs": [
    {
     "name": "stdout",
     "output_type": "stream",
     "text": [
      "['Apple', 'Ball', 'Cat', 'Dog', 'Apple']\n",
      "['Apple', 'Ball', 'Cat', 'Dog', 'Apple']\n",
      "['Apple', 'Ball', 'Cat', 'Dog', 'Apple']\n",
      "['Apple', 'Ball', 'Cat', 'Dog', 'Apple']\n",
      "['Apple', 'Ball', 'Cat', 'Dog', 'Apple']\n"
     ]
    }
   ],
   "source": [
    "# Reading \n",
    "a = ['Apple','Ball','Cat','Dog','Apple']\n",
    "for i in a:\n",
    "    print(a)"
   ]
  },
  {
   "cell_type": "code",
   "execution_count": 26,
   "id": "607405ce",
   "metadata": {},
   "outputs": [
    {
     "name": "stdout",
     "output_type": "stream",
     "text": [
      "Apple\n",
      "Ball\n",
      "Cat\n",
      "Dog\n",
      "Apple\n"
     ]
    }
   ],
   "source": [
    "a = ['Apple','Ball','Cat','Dog','Apple']\n",
    "for i in a:\n",
    "    print(i)"
   ]
  },
  {
   "cell_type": "code",
   "execution_count": 27,
   "id": "c9a31a75",
   "metadata": {},
   "outputs": [
    {
     "name": "stdout",
     "output_type": "stream",
     "text": [
      "enter n =2\n",
      "enter x =apple\n",
      "enter x =ball\n",
      "['apple', 'ball']\n"
     ]
    }
   ],
   "source": [
    "a = []\n",
    "n = int(input(\"enter n =\"))\n",
    "for i in range(n):\n",
    "    x = (input(\"enter x =\"))\n",
    "    a.append(x)\n",
    "    \n",
    "    \n",
    "print(a)"
   ]
  },
  {
   "cell_type": "code",
   "execution_count": 28,
   "id": "0e5dce64",
   "metadata": {},
   "outputs": [
    {
     "data": {
      "text/plain": [
       "['apple', 'Ball', 'Cat', 'Dog', 'Apple']"
      ]
     },
     "execution_count": 28,
     "metadata": {},
     "output_type": "execute_result"
    }
   ],
   "source": [
    "# update\n",
    "a = ['Apple','Ball','Cat','Dog','Apple']\n",
    "a[0] = 'apple'\n",
    "a"
   ]
  },
  {
   "cell_type": "code",
   "execution_count": 29,
   "id": "9c8770bc",
   "metadata": {},
   "outputs": [
    {
     "data": {
      "text/plain": [
       "['apple', 'ball', 'Cat', 'Dog', 'Apple']"
      ]
     },
     "execution_count": 29,
     "metadata": {},
     "output_type": "execute_result"
    }
   ],
   "source": [
    "a = ['Apple','Ball','Cat','Dog','Apple']\n",
    "a[0:2] = ['apple','ball']\n",
    "a"
   ]
  },
  {
   "cell_type": "code",
   "execution_count": 31,
   "id": "09286227",
   "metadata": {},
   "outputs": [
    {
     "name": "stdout",
     "output_type": "stream",
     "text": [
      "['Ball', 'Cat', 'Dog', 'Apple']\n"
     ]
    }
   ],
   "source": [
    "# del remove() pop()\n",
    "a = ['Apple','Ball','Cat','Dog','Apple']\n",
    "del a[0]\n",
    "print(a)"
   ]
  },
  {
   "cell_type": "code",
   "execution_count": 32,
   "id": "5b5d9f82",
   "metadata": {},
   "outputs": [
    {
     "name": "stdout",
     "output_type": "stream",
     "text": [
      "['Apple', 'Ball', 'Cat', 'Apple']\n"
     ]
    }
   ],
   "source": [
    "a = ['Apple','Ball','Cat','Dog','Apple']\n",
    "del a[3]\n",
    "print(a)"
   ]
  },
  {
   "cell_type": "code",
   "execution_count": 33,
   "id": "a12377ed",
   "metadata": {},
   "outputs": [
    {
     "name": "stdout",
     "output_type": "stream",
     "text": [
      "['Apple', 'Ball', 'Cat', 'Apple']\n"
     ]
    }
   ],
   "source": [
    "# counting start from the last bcz of -\n",
    "a = ['Apple','Ball','Cat','Dog','Apple']\n",
    "del a[-2]\n",
    "print(a)"
   ]
  },
  {
   "cell_type": "code",
   "execution_count": 34,
   "id": "80d7b6b1",
   "metadata": {},
   "outputs": [
    {
     "name": "stdout",
     "output_type": "stream",
     "text": [
      "['Dog', 'Apple']\n"
     ]
    }
   ],
   "source": [
    "a = ['Apple','Ball','Cat','Dog','Apple']\n",
    "del a[0:3]\n",
    "print(a)"
   ]
  },
  {
   "cell_type": "code",
   "execution_count": 35,
   "id": "a0a39f46",
   "metadata": {},
   "outputs": [
    {
     "name": "stdout",
     "output_type": "stream",
     "text": [
      "['Apple', 'Cat', 'Dog', 'Apple']\n"
     ]
    }
   ],
   "source": [
    "a = ['Apple','Ball','Cat','Dog','Apple']\n",
    "a.remove('Ball')\n",
    "print(a)"
   ]
  },
  {
   "cell_type": "code",
   "execution_count": 36,
   "id": "bb7e04cf",
   "metadata": {},
   "outputs": [
    {
     "name": "stdout",
     "output_type": "stream",
     "text": [
      "['Ball', 'Cat', 'Dog', 'Apple']\n"
     ]
    }
   ],
   "source": [
    "a = ['Apple','Ball','Cat','Dog','Apple']\n",
    "a.remove('Apple')\n",
    "print(a)"
   ]
  },
  {
   "cell_type": "code",
   "execution_count": 37,
   "id": "e16aec33",
   "metadata": {},
   "outputs": [
    {
     "name": "stdout",
     "output_type": "stream",
     "text": [
      "2\n",
      "['Ball', 'Cat', 'Dog']\n"
     ]
    }
   ],
   "source": [
    "a = ['Apple','Ball','Cat','Dog','Apple']\n",
    "c = a.count(\"Apple\")\n",
    "print(c)\n",
    "for i in range(c):\n",
    "    a.remove('Apple')\n",
    "print(a)"
   ]
  },
  {
   "cell_type": "code",
   "execution_count": 41,
   "id": "4f90fdaa",
   "metadata": {},
   "outputs": [
    {
     "name": "stdout",
     "output_type": "stream",
     "text": [
      "Apple\n"
     ]
    }
   ],
   "source": [
    "# delect and pop are almost similar\n",
    "\n",
    "a = ['Apple','Ball','Cat','Dog','Apple']\n",
    "b =a.pop()\n",
    "print(b)\n"
   ]
  },
  {
   "cell_type": "code",
   "execution_count": 42,
   "id": "5281ddf5",
   "metadata": {},
   "outputs": [
    {
     "name": "stdout",
     "output_type": "stream",
     "text": [
      "['Ball', 'Cat', 'Dog', 'Apple']\n",
      "Apple\n"
     ]
    }
   ],
   "source": [
    "a = ['Apple','Ball','Cat','Dog','Apple']\n",
    "b =a.pop(0)\n",
    "print(a)\n",
    "print(b)\n"
   ]
  },
  {
   "cell_type": "code",
   "execution_count": 43,
   "id": "264d799c",
   "metadata": {},
   "outputs": [
    {
     "data": {
      "text/plain": [
       "0"
      ]
     },
     "execution_count": 43,
     "metadata": {},
     "output_type": "execute_result"
    }
   ],
   "source": [
    "a = ['Apple','Ball','Cat','Dog','Apple']\n",
    "a.index('Apple')"
   ]
  },
  {
   "cell_type": "code",
   "execution_count": 44,
   "id": "a0b2aeac",
   "metadata": {},
   "outputs": [
    {
     "data": {
      "text/plain": [
       "1"
      ]
     },
     "execution_count": 44,
     "metadata": {},
     "output_type": "execute_result"
    }
   ],
   "source": [
    "a = ['Apple','Ball','Cat','Dog','Apple']\n",
    "a.index('Ball')"
   ]
  },
  {
   "cell_type": "code",
   "execution_count": 45,
   "id": "eca03e66",
   "metadata": {},
   "outputs": [
    {
     "name": "stdout",
     "output_type": "stream",
     "text": [
      "0\n",
      "4\n"
     ]
    }
   ],
   "source": [
    "a = ['Apple','Ball','Cat','Dog','Apple']\n",
    "l = len(a)\n",
    "for i in range(l):\n",
    "    if a[i] == 'Apple':\n",
    "        print(i)"
   ]
  },
  {
   "cell_type": "code",
   "execution_count": 47,
   "id": "eced7c2e",
   "metadata": {},
   "outputs": [
    {
     "name": "stdout",
     "output_type": "stream",
     "text": [
      "Apple\n",
      "Ball\n",
      "Cat\n",
      "Dog\n",
      "Apple\n"
     ]
    }
   ],
   "source": [
    "a = ['Apple','Ball','Cat','Dog','Apple']\n",
    "l = len(a)\n",
    "i = 0\n",
    "while i<l:\n",
    "    print(a[i])\n",
    "    i = i+1"
   ]
  },
  {
   "cell_type": "code",
   "execution_count": 48,
   "id": "a8be399c",
   "metadata": {},
   "outputs": [],
   "source": [
    "# multi dimensional array\n",
    "\n",
    "#a = [[1,2,3,4,5,6,7,8,9]]"
   ]
  },
  {
   "cell_type": "code",
   "execution_count": 49,
   "id": "4edded73",
   "metadata": {},
   "outputs": [
    {
     "name": "stdout",
     "output_type": "stream",
     "text": [
      "<class 'list'>\n",
      "3\n"
     ]
    }
   ],
   "source": [
    "# list inside list\n",
    "\n",
    "a =[[1,2,3],\n",
    "    [4,5,6],\n",
    "    [7,8,9]]\n",
    "print(type(a))\n",
    "print(len(a))"
   ]
  },
  {
   "cell_type": "code",
   "execution_count": 50,
   "id": "2a964498",
   "metadata": {},
   "outputs": [
    {
     "name": "stdout",
     "output_type": "stream",
     "text": [
      "[[1, 2, 3], [4, 5, 6], [7, 8, 9]]\n",
      "[7, 8, 9]\n"
     ]
    }
   ],
   "source": [
    "print(a)\n",
    "print(a[2])"
   ]
  },
  {
   "cell_type": "code",
   "execution_count": 51,
   "id": "d0136391",
   "metadata": {},
   "outputs": [
    {
     "data": {
      "text/plain": [
       "2"
      ]
     },
     "execution_count": 51,
     "metadata": {},
     "output_type": "execute_result"
    }
   ],
   "source": [
    "# a[i][j]\n",
    "\n",
    "a[0][1]"
   ]
  },
  {
   "cell_type": "code",
   "execution_count": 53,
   "id": "e51d851b",
   "metadata": {},
   "outputs": [
    {
     "name": "stdout",
     "output_type": "stream",
     "text": [
      "<class 'list'>\n",
      "3\n"
     ]
    }
   ],
   "source": [
    "a = [[\"ram\",23,\"ktm\"],\n",
    "    ['shyam',24,\"bhaktapur\"],\n",
    "    [\"hari\",25,\"lalitpur\"]]\n",
    "print(type(a))\n",
    "print(len(a))"
   ]
  },
  {
   "cell_type": "code",
   "execution_count": 1,
   "id": "7822d7e1",
   "metadata": {},
   "outputs": [
    {
     "name": "stdout",
     "output_type": "stream",
     "text": [
      "enter n =2\n",
      " enter name =neha\n",
      " enter age =23\n",
      " enter address =kathmandu\n",
      " enter name =komal\n",
      " enter age =21\n",
      " enter address =bhaktapur\n",
      "[['neha', 23, 'kathmandu'], ['komal', 21, 'bhaktapur']]\n"
     ]
    }
   ],
   "source": [
    "data = []\n",
    "n = int(input(\"enter n =\"))\n",
    "for i in range(n):\n",
    "    name = (input(\" enter name =\"))\n",
    "    age = int (input(\" enter age =\"))\n",
    "    address = (input(\" enter address =\"))\n",
    "    data.append([name,age,address])\n",
    "print(data)"
   ]
  },
  {
   "cell_type": "code",
   "execution_count": 2,
   "id": "5d8956dd",
   "metadata": {},
   "outputs": [
    {
     "name": "stdout",
     "output_type": "stream",
     "text": [
      "['neha', 23, 'kathmandu']\n"
     ]
    }
   ],
   "source": [
    " a = [['neha', 23, 'kathmandu'], ['komal', 21, 'bhaktapur']]\n",
    "print(a[0])"
   ]
  },
  {
   "cell_type": "code",
   "execution_count": 3,
   "id": "212dc04c",
   "metadata": {},
   "outputs": [
    {
     "name": "stdout",
     "output_type": "stream",
     "text": [
      "neha\n"
     ]
    }
   ],
   "source": [
    "a = [['neha', 23, 'kathmandu'], ['komal', 21, 'bhaktapur']]\n",
    "print(a[0][0])"
   ]
  },
  {
   "cell_type": "code",
   "execution_count": 5,
   "id": "9f52f448",
   "metadata": {},
   "outputs": [
    {
     "name": "stdout",
     "output_type": "stream",
     "text": [
      "[['neha', 23, 'janakpur'], ['komal', 21, 'bhaktapur']]\n"
     ]
    }
   ],
   "source": [
    "a = [['neha', 23, 'kathmandu'], ['komal', 21, 'bhaktapur']]\n",
    "a[0] = ['neha', 23, 'janakpur']\n",
    "print(a)"
   ]
  },
  {
   "cell_type": "code",
   "execution_count": 6,
   "id": "e1ad9bba",
   "metadata": {},
   "outputs": [
    {
     "data": {
      "text/plain": [
       "[['neha', 23, 'janakpur'], ['komal', 21, 'bhaktapur']]"
      ]
     },
     "execution_count": 6,
     "metadata": {},
     "output_type": "execute_result"
    }
   ],
   "source": [
    "a = [['neha', 23, 'kathmandu'], ['komal', 21, 'bhaktapur']]\n",
    "a[0] = ['neha', 23, 'janakpur']\n",
    "a"
   ]
  },
  {
   "cell_type": "code",
   "execution_count": 9,
   "id": "5abdd9c4",
   "metadata": {},
   "outputs": [
    {
     "data": {
      "text/plain": [
       "[['neha', 23, 'kathmandu'],\n",
       " ['hhhh', 55, 'knvfdhb', 6598758485748],\n",
       " ['komal', 21, 'bhaktapur']]"
      ]
     },
     "execution_count": 9,
     "metadata": {},
     "output_type": "execute_result"
    }
   ],
   "source": [
    "a = [['neha', 23, 'kathmandu'], ['komal', 21, 'bhaktapur']]\n",
    "a.insert(1,['hhhh',55,'knvfdhb',6598758485748])\n",
    "a"
   ]
  },
  {
   "cell_type": "code",
   "execution_count": 10,
   "id": "46410af1",
   "metadata": {},
   "outputs": [
    {
     "data": {
      "text/plain": [
       "[['neha', 23, 89687556, 'kathmandu'], ['komal', 21, 'bhaktapur']]"
      ]
     },
     "execution_count": 10,
     "metadata": {},
     "output_type": "execute_result"
    }
   ],
   "source": [
    "a = [['neha', 23, 'kathmandu'], ['komal', 21, 'bhaktapur']]\n",
    "a[0].insert(2,89687556)\n",
    "a"
   ]
  },
  {
   "cell_type": "code",
   "execution_count": 11,
   "id": "48abc547",
   "metadata": {},
   "outputs": [
    {
     "data": {
      "text/plain": [
       "[['neha', 23, 'kathmandu'], ['komal', 21, 'bhaktapur'], 1, 2, 3]"
      ]
     },
     "execution_count": 11,
     "metadata": {},
     "output_type": "execute_result"
    }
   ],
   "source": [
    "a = [['neha', 23, 'kathmandu'], ['komal', 21, 'bhaktapur']]\n",
    "b = (1 ,2 ,3)\n",
    "a.extend(b)\n",
    "a"
   ]
  },
  {
   "cell_type": "code",
   "execution_count": 2,
   "id": "04bbb0ea",
   "metadata": {},
   "outputs": [
    {
     "data": {
      "text/plain": [
       "[['neha', 23, 'kathmandu'], ['komal', 21, 'bhaktapur'], [1, 2, 3]]"
      ]
     },
     "execution_count": 2,
     "metadata": {},
     "output_type": "execute_result"
    }
   ],
   "source": [
    "a = [['neha', 23, 'kathmandu'], ['komal', 21, 'bhaktapur']]\n",
    "b = [[1 ,2 ,3]]\n",
    "a.extend(b)\n",
    "a"
   ]
  },
  {
   "cell_type": "code",
   "execution_count": 3,
   "id": "44bedf26",
   "metadata": {},
   "outputs": [
    {
     "data": {
      "text/plain": [
       "[['komal', 21, 'bhaktapur']]"
      ]
     },
     "execution_count": 3,
     "metadata": {},
     "output_type": "execute_result"
    }
   ],
   "source": [
    "a = [['neha', 23, 'kathmandu'], ['komal', 21, 'bhaktapur']]\n",
    "del a[0]\n",
    "a"
   ]
  },
  {
   "cell_type": "code",
   "execution_count": 5,
   "id": "eed0ecb1",
   "metadata": {},
   "outputs": [
    {
     "name": "stdout",
     "output_type": "stream",
     "text": [
      "[['komal', 21, 'bhaktapur']]\n",
      "['neha', 23, 'kathmandu']\n"
     ]
    }
   ],
   "source": [
    "a = [['neha', 23, 'kathmandu'], ['komal', 21, 'bhaktapur']]\n",
    "x = a.pop(0)\n",
    "print(a)\n",
    "print(x)"
   ]
  },
  {
   "cell_type": "code",
   "execution_count": 7,
   "id": "907adc93",
   "metadata": {},
   "outputs": [
    {
     "name": "stdout",
     "output_type": "stream",
     "text": [
      "yes\n",
      "2\n"
     ]
    }
   ],
   "source": [
    "a = [\"Ram\",\"shyam\",\"hari\",\"Ram\",\"shyam\"]\n",
    "if \"Ram\" in a:\n",
    "    print(\"yes\")\n",
    "    print(a.count(\"Ram\"))"
   ]
  },
  {
   "cell_type": "code",
   "execution_count": 10,
   "id": "08cc806b",
   "metadata": {},
   "outputs": [
    {
     "name": "stdout",
     "output_type": "stream",
     "text": [
      "enter name =neha\n",
      "['neha', 23, 'kathmandu']\n"
     ]
    }
   ],
   "source": [
    "#search in list inside list\n",
    "\n",
    "a = [['neha', 23, 'kathmandu'], ['komal', 21, 'bhaktapur']]\n",
    "name = input(\"enter name =\")\n",
    "for i in a:\n",
    "    if name in i:\n",
    "        print(i)"
   ]
  },
  {
   "cell_type": "code",
   "execution_count": 11,
   "id": "c691e614",
   "metadata": {},
   "outputs": [
    {
     "name": "stdout",
     "output_type": "stream",
     "text": [
      "enter name =neha\n",
      "['neha', 23, 'kathmandu']\n"
     ]
    }
   ],
   "source": [
    "a = [['neha', 23, 'kathmandu'], ['komal', 21, 'bhaktapur']]\n",
    "name = input(\"enter name =\")\n",
    "for i in a:\n",
    "    if name in i[0]:\n",
    "        print(i)"
   ]
  },
  {
   "cell_type": "code",
   "execution_count": 20,
   "id": "c7f48625",
   "metadata": {},
   "outputs": [
    {
     "name": "stdout",
     "output_type": "stream",
     "text": [
      "enter name =komal\n",
      "['komal', 21, 'bhaktapur']\n",
      "no result found\n"
     ]
    }
   ],
   "source": [
    "a = [['neha', 23, 'kathmandu'], ['komal', 21, 'bhaktapur']]\n",
    "name = input(\"enter name =\").lower()\n",
    "for i in a:\n",
    "    if name == i[0].lower():\n",
    "        print(i)\n",
    "else:\n",
    "    print(\"no result found\")"
   ]
  },
  {
   "cell_type": "code",
   "execution_count": 24,
   "id": "4e2bd1e6",
   "metadata": {},
   "outputs": [
    {
     "name": "stdout",
     "output_type": "stream",
     "text": [
      "enter name =neha\n",
      "['neha', 23, 'kathmandu']\n",
      "1 records found\n"
     ]
    }
   ],
   "source": [
    "c = 0\n",
    "a = [['neha', 23, 'kathmandu'], ['komal', 21, 'bhaktapur']]\n",
    "name = input(\"enter name =\").lower()\n",
    "for i in a:\n",
    "    if name == i[0].lower():\n",
    "        print(i)\n",
    "        c = c+1\n",
    "if c == 0:\n",
    "    print(\"no result found\")\n",
    "else:\n",
    "    print(c,\"records found\")"
   ]
  },
  {
   "cell_type": "code",
   "execution_count": 26,
   "id": "f1f94757",
   "metadata": {},
   "outputs": [
    {
     "name": "stdout",
     "output_type": "stream",
     "text": [
      "enter n =2\n",
      "enter name =neha\n",
      "enter age =23\n",
      "2\n",
      "neha\n",
      "23\n"
     ]
    }
   ],
   "source": [
    "\n",
    "n = int(input(\"enter n =\"))\n",
    "name = input(\"enter name =\")\n",
    "age = int(input(\"enter age =\"))\n",
    "\n",
    "print(n)\n",
    "print(name)\n",
    "print(age)"
   ]
  },
  {
   "cell_type": "code",
   "execution_count": null,
   "id": "72b7fcf6",
   "metadata": {},
   "outputs": [],
   "source": []
  }
 ],
 "metadata": {
  "kernelspec": {
   "display_name": "Python 3 (ipykernel)",
   "language": "python",
   "name": "python3"
  },
  "language_info": {
   "codemirror_mode": {
    "name": "ipython",
    "version": 3
   },
   "file_extension": ".py",
   "mimetype": "text/x-python",
   "name": "python",
   "nbconvert_exporter": "python",
   "pygments_lexer": "ipython3",
   "version": "3.9.13"
  }
 },
 "nbformat": 4,
 "nbformat_minor": 5
}
