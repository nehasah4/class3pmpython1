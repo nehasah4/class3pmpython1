{
 "cells": [
  {
   "cell_type": "code",
   "execution_count": 2,
   "id": "5b850e50",
   "metadata": {},
   "outputs": [
    {
     "name": "stdout",
     "output_type": "stream",
     "text": [
      "0\n",
      "1\n",
      "2\n",
      "3\n",
      "4\n"
     ]
    }
   ],
   "source": [
    "# range(5)       0,1,2,3,4     for(i=0;i<5;i++)\n",
    "# range(1,5)     1,2,3,4       for(i=1;i<5;i++)\n",
    "# range(1,10,2)  1,3,5,7,9     for(i=1;i<10;i=i+2)\n",
    "\n",
    "\n",
    "for i in range(5):\n",
    "    print(i)"
   ]
  },
  {
   "cell_type": "code",
   "execution_count": 7,
   "id": "700768dd",
   "metadata": {},
   "outputs": [
    {
     "name": "stdout",
     "output_type": "stream",
     "text": [
      "1 neha sah\n",
      "2 neha sah\n",
      "3 neha sah\n",
      "4 neha sah\n"
     ]
    }
   ],
   "source": [
    "for i in range(1,5):\n",
    "    print(i,\"neha sah\")"
   ]
  },
  {
   "cell_type": "code",
   "execution_count": 8,
   "id": "1696f2fa",
   "metadata": {},
   "outputs": [
    {
     "name": "stdout",
     "output_type": "stream",
     "text": [
      "1 hello world\n",
      "3 hello world\n",
      "5 hello world\n",
      "7 hello world\n",
      "9 hello world\n"
     ]
    }
   ],
   "source": [
    "for i in range(1,10,2):\n",
    "    print(i,\"hello world\")"
   ]
  },
  {
   "cell_type": "code",
   "execution_count": 12,
   "id": "be196ecc",
   "metadata": {},
   "outputs": [
    {
     "name": "stdout",
     "output_type": "stream",
     "text": [
      "enter the value n=2\n",
      "2\n",
      "4\n",
      "6\n",
      "8\n",
      "10\n",
      "12\n",
      "14\n",
      "16\n",
      "18\n",
      "20\n"
     ]
    }
   ],
   "source": [
    "n=int(input(\"enter the value n=\"))\n",
    "for i in range(1,11):\n",
    "    print(n*i)"
   ]
  },
  {
   "cell_type": "code",
   "execution_count": 13,
   "id": "11f48660",
   "metadata": {},
   "outputs": [
    {
     "name": "stdout",
     "output_type": "stream",
     "text": [
      "enter the value n=2\n",
      "2\n",
      "4\n",
      "6\n",
      "8\n"
     ]
    }
   ],
   "source": [
    "n=int(input(\"enter the value n=\"))\n",
    "for i in range(1,5):\n",
    "    print(n*i)"
   ]
  },
  {
   "cell_type": "code",
   "execution_count": 14,
   "id": "1bc4d6b1",
   "metadata": {},
   "outputs": [
    {
     "name": "stdout",
     "output_type": "stream",
     "text": [
      "enter the value n=2\n",
      "2 * 1 = 2\n",
      "2 * 2 = 4\n",
      "2 * 3 = 6\n",
      "2 * 4 = 8\n",
      "2 * 5 = 10\n",
      "2 * 6 = 12\n",
      "2 * 7 = 14\n",
      "2 * 8 = 16\n",
      "2 * 9 = 18\n",
      "2 * 10 = 20\n"
     ]
    }
   ],
   "source": [
    "n=int(input(\"enter the value n=\"))\n",
    "for i in range(1,11):\n",
    "    print(n,\"*\",i,\"=\",n*i)"
   ]
  },
  {
   "cell_type": "code",
   "execution_count": 16,
   "id": "1c179a2a",
   "metadata": {},
   "outputs": [
    {
     "name": "stdout",
     "output_type": "stream",
     "text": [
      "enter the value n=4\n",
      "4 * 1 = 4\n",
      "4 * 2 = 8\n",
      "4 * 3 = 12\n",
      "4 * 4 = 16\n",
      "4 * 5 = 20\n",
      "4 * 6 = 24\n",
      "4 * 7 = 28\n",
      "4 * 8 = 32\n",
      "4 * 9 = 36\n",
      "4 * 10 = 40\n"
     ]
    }
   ],
   "source": [
    "n=int(input(\"enter the value n=\"))\n",
    "for i in range(1,11):\n",
    "    print(n,\"*\",i,\"=\",n*i)"
   ]
  },
  {
   "cell_type": "code",
   "execution_count": 17,
   "id": "da8db203",
   "metadata": {},
   "outputs": [
    {
     "name": "stdout",
     "output_type": "stream",
     "text": [
      "1\n",
      "3\n",
      "6\n",
      "10\n"
     ]
    }
   ],
   "source": [
    "s=0\n",
    "for i in range(1,5):\n",
    "    s=s+i\n",
    "    print(s)"
   ]
  },
  {
   "cell_type": "code",
   "execution_count": 18,
   "id": "04b71c40",
   "metadata": {},
   "outputs": [
    {
     "name": "stdout",
     "output_type": "stream",
     "text": [
      "10\n"
     ]
    }
   ],
   "source": [
    "s=0\n",
    "for i in range(1,5):\n",
    "    s=s+i\n",
    "print(s)"
   ]
  },
  {
   "cell_type": "code",
   "execution_count": 19,
   "id": "f5758321",
   "metadata": {},
   "outputs": [
    {
     "name": "stdout",
     "output_type": "stream",
     "text": [
      "24\n"
     ]
    }
   ],
   "source": [
    "s=1\n",
    "for i in range(1,5):\n",
    "    s=s*i\n",
    "print(s)"
   ]
  },
  {
   "cell_type": "code",
   "execution_count": 20,
   "id": "0c57ff1a",
   "metadata": {},
   "outputs": [
    {
     "name": "stdout",
     "output_type": "stream",
     "text": [
      "1\n",
      "2\n",
      "6\n",
      "24\n"
     ]
    }
   ],
   "source": [
    "s=1\n",
    "for i in range(1,5):\n",
    "    s=s*i\n",
    "    print(s)"
   ]
  },
  {
   "cell_type": "code",
   "execution_count": 21,
   "id": "b851381c",
   "metadata": {},
   "outputs": [
    {
     "name": "stdout",
     "output_type": "stream",
     "text": [
      "enter initial no x=1\n",
      "enter final no y=5\n",
      "1\n",
      "2\n",
      "6\n",
      "24\n"
     ]
    }
   ],
   "source": [
    "s=1\n",
    "x=int(input(\"enter initial no x=\"))\n",
    "y=int(input(\"enter final no y=\"))\n",
    "for i in range(x,y):\n",
    "    s=s*i\n",
    "    print(s)"
   ]
  },
  {
   "cell_type": "code",
   "execution_count": 22,
   "id": "7810fc98",
   "metadata": {},
   "outputs": [
    {
     "name": "stdout",
     "output_type": "stream",
     "text": [
      "enter initial no x=1\n",
      "enter final no y=5\n",
      "1\n",
      "2\n",
      "6\n",
      "24\n",
      "120\n"
     ]
    }
   ],
   "source": [
    "s=1\n",
    "x=int(input(\"enter initial no x=\"))\n",
    "y=int(input(\"enter final no y=\"))\n",
    "for i in range(x,y+1):\n",
    "    s=s*i\n",
    "    print(s)"
   ]
  },
  {
   "cell_type": "code",
   "execution_count": 23,
   "id": "fe109e8f",
   "metadata": {},
   "outputs": [
    {
     "name": "stdout",
     "output_type": "stream",
     "text": [
      "enter initial no x=1\n",
      "enter final no y=5\n",
      "2\n",
      "4\n",
      "7\n",
      "11\n",
      "16\n"
     ]
    }
   ],
   "source": [
    "s=1\n",
    "x=int(input(\"enter initial no x=\"))\n",
    "y=int(input(\"enter final no y=\"))\n",
    "for i in range(x,y+1):\n",
    "    s=s+i\n",
    "    print(s)"
   ]
  },
  {
   "cell_type": "code",
   "execution_count": 24,
   "id": "5f820647",
   "metadata": {},
   "outputs": [
    {
     "name": "stdout",
     "output_type": "stream",
     "text": [
      "enter initial no x=1\n",
      "enter final no y=5\n",
      "1\n",
      "2\n",
      "6\n",
      "24\n"
     ]
    }
   ],
   "source": [
    "s=1\n",
    "x=int(input(\"enter initial no x=\"))\n",
    "y=int(input(\"enter final no y=\"))\n",
    "for i in range(x,y):\n",
    "    s=s*i\n",
    "    print(s)"
   ]
  },
  {
   "cell_type": "code",
   "execution_count": 25,
   "id": "431ce84e",
   "metadata": {},
   "outputs": [
    {
     "name": "stdout",
     "output_type": "stream",
     "text": [
      "enter initial no x=1\n",
      "enter final no y=5\n",
      "0\n",
      "-2\n",
      "-5\n",
      "-9\n",
      "-14\n"
     ]
    }
   ],
   "source": [
    "s=1\n",
    "x=int(input(\"enter initial no x=\"))\n",
    "y=int(input(\"enter final no y=\"))\n",
    "for i in range(x,y+1):\n",
    "    s=s-i\n",
    "    print(s)"
   ]
  },
  {
   "cell_type": "code",
   "execution_count": 28,
   "id": "a51535f6",
   "metadata": {},
   "outputs": [
    {
     "name": "stdout",
     "output_type": "stream",
     "text": [
      "enter initial no x=1\n",
      "enter final no y=5\n",
      "0\n",
      "-2\n",
      "-5\n",
      "-9\n",
      "-14\n"
     ]
    }
   ],
   "source": [
    "s=1\n",
    "x=int(input(\"enter initial no x=\"))\n",
    "y=int(input(\"enter final no y=\"))\n",
    "for i in range(x,y+1):\n",
    "    s=s-i\n",
    "    print(s)"
   ]
  },
  {
   "cell_type": "code",
   "execution_count": 34,
   "id": "96e8e5dc",
   "metadata": {},
   "outputs": [
    {
     "name": "stdout",
     "output_type": "stream",
     "text": [
      "enter initial no x=1\n",
      "enter final no y=5\n",
      "120\n"
     ]
    }
   ],
   "source": [
    "\n",
    "x=int(input(\"enter initial no x=\"))\n",
    "y=int(input(\"enter final no y=\"))\n",
    "for i in range(x,y+1):\n",
    "    x=x*i\n",
    "print(x)"
   ]
  },
  {
   "cell_type": "code",
   "execution_count": 33,
   "id": "50f58f17",
   "metadata": {},
   "outputs": [
    {
     "name": "stdout",
     "output_type": "stream",
     "text": [
      "enter initial no x=5\n",
      "-14\n"
     ]
    }
   ],
   "source": [
    "s=1\n",
    "x=int(input(\"enter initial no x=\"))\n",
    "for i in range(1,x+1):\n",
    "    s=s-i\n",
    "print(s)"
   ]
  },
  {
   "cell_type": "code",
   "execution_count": 36,
   "id": "125761ae",
   "metadata": {
    "collapsed": true
   },
   "outputs": [
    {
     "name": "stdout",
     "output_type": "stream",
     "text": [
      "enter x=10.3\n",
      "10.3\n",
      "enter x=11.4\n",
      "11.4\n"
     ]
    }
   ],
   "source": [
    "for i in range(2):\n",
    "    x=input(\"enter x=\")\n",
    "    print(x)"
   ]
  },
  {
   "cell_type": "code",
   "execution_count": 39,
   "id": "bb0aea42",
   "metadata": {
    "scrolled": true
   },
   "outputs": [
    {
     "name": "stdout",
     "output_type": "stream",
     "text": [
      "enter x=2\n",
      "2\n",
      "enter x=4\n",
      "4\n"
     ]
    }
   ],
   "source": [
    "for i in range(2):\n",
    "    x=int(input(\"enter x=\"))\n",
    "    print(x)"
   ]
  },
  {
   "cell_type": "code",
   "execution_count": 41,
   "id": "46e0ec9a",
   "metadata": {},
   "outputs": [
    {
     "name": "stdout",
     "output_type": "stream",
     "text": [
      "enter x=3\n",
      "enter x=4\n",
      "enter x=5\n",
      "enter x=6\n",
      "enter x=7\n",
      "25\n"
     ]
    }
   ],
   "source": [
    "s=0\n",
    "for i in range(5):\n",
    "    x=int(input(\"enter x=\"))\n",
    "    s=s+x\n",
    "        \n",
    "print(s)"
   ]
  },
  {
   "cell_type": "code",
   "execution_count": 42,
   "id": "bde445f1",
   "metadata": {},
   "outputs": [
    {
     "name": "stdout",
     "output_type": "stream",
     "text": [
      "enter x=2\n",
      "enter x=3\n",
      "enter x=5\n",
      "enter x=6\n",
      "enter x=7\n",
      "2.3\n"
     ]
    }
   ],
   "source": [
    "s=0\n",
    "for i in range(5):\n",
    "    x=int(input(\"enter x=\"))\n",
    "    s=s+x\n",
    "    total=s/10\n",
    "        \n",
    "print(total)"
   ]
  },
  {
   "cell_type": "code",
   "execution_count": null,
   "id": "1a125ead",
   "metadata": {},
   "outputs": [],
   "source": [
    "s=str()\n",
    "for i in range(5):\n",
    "    x=(input(\"enter x=\"))\n",
    "    s=s+x\n",
    "    \n",
    "print(s)"
   ]
  },
  {
   "cell_type": "code",
   "execution_count": 1,
   "id": "308a03c2",
   "metadata": {},
   "outputs": [
    {
     "name": "stdout",
     "output_type": "stream",
     "text": [
      "enter x=neha\n",
      "enter x=komal\n",
      "enter x=pooja\n",
      "enter x=preeti\n",
      "enter x=preesha\n",
      "nehakomalpoojapreetipreesha\n"
     ]
    }
   ],
   "source": [
    "s=str()\n",
    "for i in range(5):\n",
    "    x=(input(\"enter x=\"))\n",
    "    s=s+x\n",
    "    \n",
    "        \n",
    "print(s)"
   ]
  },
  {
   "cell_type": "code",
   "execution_count": 6,
   "id": "169e58a7",
   "metadata": {},
   "outputs": [
    {
     "name": "stdout",
     "output_type": "stream",
     "text": [
      "enter x =nn\n",
      "enter x =mm\n",
      "enter x =kk\n",
      "enter x =ll\n",
      "enter x =hh\n",
      "nn  mm  kk  ll  hh  \n"
     ]
    }
   ],
   "source": [
    "s=str()\n",
    "for i in range(5):\n",
    "    x=(input(\"enter x =\"))\n",
    "    s = s+x + \"  \"\n",
    "    \n",
    "        \n",
    "print(s)"
   ]
  },
  {
   "cell_type": "code",
   "execution_count": null,
   "id": "fef6e1e2",
   "metadata": {},
   "outputs": [
    {
     "name": "stdout",
     "output_type": "stream",
     "text": [
      "enter name=neha\n",
      "enter phone=7758399362\n",
      "enter name=komal\n",
      "enter phone=903743635673\n",
      "enter name=pooja\n",
      "enter phone=09748936783\n",
      "enter name=hufirfu\n"
     ]
    }
   ],
   "source": [
    "s=str()\n",
    "for i in range(5):\n",
    "    name=input(\"enter name=\")\n",
    "    phone=input(\"enter phone=\")\n",
    "    s=s+name+\" \"+phone+\"\\n\"\n",
    "    \n",
    "print(s)"
   ]
  },
  {
   "cell_type": "code",
   "execution_count": 1,
   "id": "016a955d",
   "metadata": {},
   "outputs": [
    {
     "name": "stdout",
     "output_type": "stream",
     "text": [
      "5\n",
      "4\n",
      "3\n",
      "2\n",
      "1\n"
     ]
    }
   ],
   "source": [
    "for i in range(5,0,-1):\n",
    "    print(i)"
   ]
  },
  {
   "cell_type": "code",
   "execution_count": 2,
   "id": "fbc79282",
   "metadata": {},
   "outputs": [
    {
     "name": "stdout",
     "output_type": "stream",
     "text": [
      "2\n",
      "4\n",
      "6\n",
      "8\n"
     ]
    }
   ],
   "source": [
    "for i in range(1,10):\n",
    "    if i%2==0:\n",
    "        print(i)"
   ]
  },
  {
   "cell_type": "code",
   "execution_count": null,
   "id": "8438bcea",
   "metadata": {},
   "outputs": [],
   "source": []
  }
 ],
 "metadata": {
  "kernelspec": {
   "display_name": "Python 3 (ipykernel)",
   "language": "python",
   "name": "python3"
  },
  "language_info": {
   "codemirror_mode": {
    "name": "ipython",
    "version": 3
   },
   "file_extension": ".py",
   "mimetype": "text/x-python",
   "name": "python",
   "nbconvert_exporter": "python",
   "pygments_lexer": "ipython3",
   "version": "3.9.13"
  }
 },
 "nbformat": 4,
 "nbformat_minor": 5
}
