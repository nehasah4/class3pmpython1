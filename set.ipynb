{
 "cells": [
  {
   "cell_type": "code",
   "execution_count": null,
   "id": "38953ccd",
   "metadata": {},
   "outputs": [],
   "source": [
    "# In[]: Set\n",
    "#      -no indexing\n",
    "#     -unordered\n",
    "#     -multiple but no duplicate data\n",
    "#     -mutable"
   ]
  },
  {
   "cell_type": "code",
   "execution_count": 2,
   "id": "31650036",
   "metadata": {},
   "outputs": [
    {
     "name": "stdout",
     "output_type": "stream",
     "text": [
      "<class 'set'>\n",
      "{1, 2, 3, 4, 5, 6}\n"
     ]
    }
   ],
   "source": [
    " s ={1,2,3,4,5,6}\n",
    "print(type(s))\n",
    "print(s)"
   ]
  },
  {
   "cell_type": "code",
   "execution_count": 5,
   "id": "00756b19",
   "metadata": {},
   "outputs": [
    {
     "data": {
      "text/plain": [
       "set"
      ]
     },
     "execution_count": 5,
     "metadata": {},
     "output_type": "execute_result"
    }
   ],
   "source": [
    "s ={1}\n",
    "type(s)"
   ]
  },
  {
   "cell_type": "code",
   "execution_count": 6,
   "id": "d7ef10db",
   "metadata": {},
   "outputs": [
    {
     "ename": "TypeError",
     "evalue": "'set' object is not subscriptable",
     "output_type": "error",
     "traceback": [
      "\u001b[1;31m---------------------------------------------------------------------------\u001b[0m",
      "\u001b[1;31mTypeError\u001b[0m                                 Traceback (most recent call last)",
      "\u001b[1;32m~\\AppData\\Local\\Temp\\ipykernel_17124\\4044767270.py\u001b[0m in \u001b[0;36m<module>\u001b[1;34m\u001b[0m\n\u001b[0;32m      1\u001b[0m \u001b[0ms\u001b[0m \u001b[1;33m=\u001b[0m \u001b[1;33m{\u001b[0m\u001b[1;34m\"apple\"\u001b[0m\u001b[1;33m,\u001b[0m\u001b[1;34m\"ball\"\u001b[0m\u001b[1;33m,\u001b[0m\u001b[1;34m\"cat\"\u001b[0m\u001b[1;33m,\u001b[0m\u001b[1;34m\"dog\"\u001b[0m\u001b[1;33m}\u001b[0m\u001b[1;33m\u001b[0m\u001b[1;33m\u001b[0m\u001b[0m\n\u001b[1;32m----> 2\u001b[1;33m \u001b[0mprint\u001b[0m\u001b[1;33m(\u001b[0m\u001b[0ms\u001b[0m\u001b[1;33m[\u001b[0m\u001b[1;36m0\u001b[0m\u001b[1;33m]\u001b[0m\u001b[1;33m)\u001b[0m\u001b[1;33m\u001b[0m\u001b[1;33m\u001b[0m\u001b[0m\n\u001b[0m",
      "\u001b[1;31mTypeError\u001b[0m: 'set' object is not subscriptable"
     ]
    }
   ],
   "source": [
    "s = {\"apple\",\"ball\",\"cat\",\"dog\"}\n",
    "print(s[0])"
   ]
  },
  {
   "cell_type": "code",
   "execution_count": 12,
   "id": "140d8b64",
   "metadata": {},
   "outputs": [
    {
     "name": "stdout",
     "output_type": "stream",
     "text": [
      "{1, 3, 4, 5, 6, 7, 8}\n"
     ]
    }
   ],
   "source": [
    "a ={1,3,4,5,6,3,4,6,7,8,6,7}\n",
    "print(a)"
   ]
  },
  {
   "cell_type": "code",
   "execution_count": 13,
   "id": "dd8e6400",
   "metadata": {},
   "outputs": [
    {
     "name": "stdout",
     "output_type": "stream",
     "text": [
      "{'apple', 'cat', 'ball'}\n"
     ]
    }
   ],
   "source": [
    "s = set()\n",
    "s.add(\"apple\")\n",
    "s.add(\"ball\")\n",
    "s.add(\"cat\")\n",
    "print(s)"
   ]
  },
  {
   "cell_type": "code",
   "execution_count": 14,
   "id": "bb72052e",
   "metadata": {},
   "outputs": [
    {
     "data": {
      "text/plain": [
       "{'apple', 'cat'}"
      ]
     },
     "execution_count": 14,
     "metadata": {},
     "output_type": "execute_result"
    }
   ],
   "source": [
    "a = {'apple', 'cat', 'ball'}\n",
    "a.remove('ball')\n",
    "a"
   ]
  },
  {
   "cell_type": "code",
   "execution_count": 16,
   "id": "157fd1dd",
   "metadata": {},
   "outputs": [
    {
     "data": {
      "text/plain": [
       "{1, 3, 4, 5, 6, 7}"
      ]
     },
     "execution_count": 16,
     "metadata": {},
     "output_type": "execute_result"
    }
   ],
   "source": [
    "a = [1,3,4,5,6,6,3,4,6,7]\n",
    "set(a)"
   ]
  },
  {
   "cell_type": "code",
   "execution_count": 17,
   "id": "b9b69d02",
   "metadata": {},
   "outputs": [
    {
     "data": {
      "text/plain": [
       "[1, 3, 4, 5, 6, 7]"
      ]
     },
     "execution_count": 17,
     "metadata": {},
     "output_type": "execute_result"
    }
   ],
   "source": [
    "a = [1,3,4,5,6,6,3,4,6,7]\n",
    "list(set(a))"
   ]
  },
  {
   "cell_type": "code",
   "execution_count": 18,
   "id": "39ad7e30",
   "metadata": {
    "scrolled": true
   },
   "outputs": [
    {
     "name": "stdout",
     "output_type": "stream",
     "text": [
      "{'neha', 'preesha', 'pooja'}\n"
     ]
    }
   ],
   "source": [
    "apple = {\"neha\",\"komal\",\"pooja\",\"preeti\",\"preesha\"}\n",
    "ms = {\"neha\",\"pooja\",\"preesha\",\"prakash\"}\n",
    "\n",
    "print(apple.intersection(ms))\n"
   ]
  },
  {
   "cell_type": "code",
   "execution_count": 19,
   "id": "29c3e8b6",
   "metadata": {},
   "outputs": [
    {
     "data": {
      "text/plain": [
       "{'komal', 'neha', 'pooja', 'prakash', 'preesha', 'preeti'}"
      ]
     },
     "execution_count": 19,
     "metadata": {},
     "output_type": "execute_result"
    }
   ],
   "source": [
    "apple.union(ms)"
   ]
  },
  {
   "cell_type": "code",
   "execution_count": 20,
   "id": "12d35ffa",
   "metadata": {},
   "outputs": [
    {
     "name": "stdout",
     "output_type": "stream",
     "text": [
      "{'preesha', 'pooja', 'neha', 'prakash', 'komal', 'preeti'}\n",
      "6\n"
     ]
    }
   ],
   "source": [
    "print(apple.union(ms))\n",
    "print(len(apple.union(ms)))"
   ]
  },
  {
   "cell_type": "code",
   "execution_count": 21,
   "id": "69f259dd",
   "metadata": {},
   "outputs": [
    {
     "data": {
      "text/plain": [
       "{'komal', 'preeti'}"
      ]
     },
     "execution_count": 21,
     "metadata": {},
     "output_type": "execute_result"
    }
   ],
   "source": [
    "#apple-ms and apple.difference(ms) are same\n",
    "apple-ms"
   ]
  },
  {
   "cell_type": "code",
   "execution_count": 23,
   "id": "d16b285b",
   "metadata": {},
   "outputs": [
    {
     "data": {
      "text/plain": [
       "{'komal', 'preeti'}"
      ]
     },
     "execution_count": 23,
     "metadata": {},
     "output_type": "execute_result"
    }
   ],
   "source": [
    "apple.difference(ms)"
   ]
  },
  {
   "cell_type": "code",
   "execution_count": 24,
   "id": "f5510375",
   "metadata": {},
   "outputs": [
    {
     "data": {
      "text/plain": [
       "{'prakash'}"
      ]
     },
     "execution_count": 24,
     "metadata": {},
     "output_type": "execute_result"
    }
   ],
   "source": [
    "ms-apple"
   ]
  },
  {
   "cell_type": "code",
   "execution_count": 26,
   "id": "4a8492a8",
   "metadata": {},
   "outputs": [
    {
     "data": {
      "text/plain": [
       "{'neha'}"
      ]
     },
     "execution_count": 26,
     "metadata": {},
     "output_type": "execute_result"
    }
   ],
   "source": [
    "apple = {\"neha\",\"komal\",\"pooja\",\"preeti\",\"preesha\"}\n",
    "ms = {\"neha\",\"pooja\",\"preesha\",\"prakash\"}\n",
    "ibm ={\"neha\",\"aalu\",}\n",
    "\n",
    "\n",
    "apple.intersection(ms,ibm)"
   ]
  },
  {
   "cell_type": "code",
   "execution_count": 28,
   "id": "d94c4816",
   "metadata": {},
   "outputs": [
    {
     "data": {
      "text/plain": [
       "{'aalu', 'komal', 'neha', 'pooja', 'prakash', 'preesha', 'preeti'}"
      ]
     },
     "execution_count": 28,
     "metadata": {},
     "output_type": "execute_result"
    }
   ],
   "source": [
    "apple.union(ms,ibm)"
   ]
  },
  {
   "cell_type": "code",
   "execution_count": 30,
   "id": "02696574",
   "metadata": {},
   "outputs": [
    {
     "data": {
      "text/plain": [
       "set()"
      ]
     },
     "execution_count": 30,
     "metadata": {},
     "output_type": "execute_result"
    }
   ],
   "source": [
    "ibm.intersection(ms) - apple"
   ]
  },
  {
   "cell_type": "code",
   "execution_count": 32,
   "id": "79a464ea",
   "metadata": {},
   "outputs": [
    {
     "data": {
      "text/plain": [
       "{'aalu', 'abc'}"
      ]
     },
     "execution_count": 32,
     "metadata": {},
     "output_type": "execute_result"
    }
   ],
   "source": [
    "u ={'aalu', 'komal', 'neha', 'pooja', 'prakash', 'preesha', 'preeti',\"abc\"}\n",
    "apple = {\"neha\",\"komal\",\"pooja\",\"preeti\",\"preesha\"}\n",
    "ms = {\"neha\",\"pooja\",\"preesha\",\"prakash\"}\n",
    "u - apple.union(ms)\n"
   ]
  },
  {
   "cell_type": "code",
   "execution_count": 33,
   "id": "c72bc8be",
   "metadata": {},
   "outputs": [
    {
     "data": {
      "text/plain": [
       "4"
      ]
     },
     "execution_count": 33,
     "metadata": {},
     "output_type": "execute_result"
    }
   ],
   "source": [
    "job = {\"python\",\"data science\",\"HTML\",\"CSS\"}\n",
    "cv = {\"python\",\"CSSc\",\"java\",\"PHP\"}\n",
    "len(job)\n"
   ]
  },
  {
   "cell_type": "code",
   "execution_count": 38,
   "id": "323c774c",
   "metadata": {},
   "outputs": [
    {
     "name": "stdout",
     "output_type": "stream",
     "text": [
      "50.0\n"
     ]
    }
   ],
   "source": [
    "job = {\"python\",\"data science\",\"HTML\",\"CSS\"}\n",
    "cv = {\"python\",\"CSS\",\"java\",\"PHP\"}\n",
    "lj =len(job)\n",
    "li = len(job.intersection(cv))\n",
    "per =li/lj*100\n",
    "print(per)"
   ]
  },
  {
   "cell_type": "code",
   "execution_count": 39,
   "id": "519a7a99",
   "metadata": {},
   "outputs": [
    {
     "ename": "TypeError",
     "evalue": "unhashable type: 'list'",
     "output_type": "error",
     "traceback": [
      "\u001b[1;31m---------------------------------------------------------------------------\u001b[0m",
      "\u001b[1;31mTypeError\u001b[0m                                 Traceback (most recent call last)",
      "\u001b[1;32m~\\AppData\\Local\\Temp\\ipykernel_17124\\2074949406.py\u001b[0m in \u001b[0;36m<module>\u001b[1;34m\u001b[0m\n\u001b[1;32m----> 1\u001b[1;33m \u001b[0ma\u001b[0m \u001b[1;33m=\u001b[0m \u001b[1;33m{\u001b[0m\u001b[1;33m[\u001b[0m\u001b[1;36m1\u001b[0m\u001b[1;33m,\u001b[0m\u001b[1;36m2\u001b[0m\u001b[1;33m,\u001b[0m\u001b[1;36m3\u001b[0m\u001b[1;33m]\u001b[0m\u001b[1;33m,\u001b[0m\u001b[1;33m{\u001b[0m\u001b[1;36m1\u001b[0m\u001b[1;33m,\u001b[0m\u001b[1;36m2\u001b[0m\u001b[1;33m,\u001b[0m\u001b[1;36m3\u001b[0m\u001b[1;33m}\u001b[0m\u001b[1;33m}\u001b[0m\u001b[1;33m\u001b[0m\u001b[1;33m\u001b[0m\u001b[0m\n\u001b[0m\u001b[0;32m      2\u001b[0m \u001b[0ma\u001b[0m\u001b[1;33m\u001b[0m\u001b[1;33m\u001b[0m\u001b[0m\n",
      "\u001b[1;31mTypeError\u001b[0m: unhashable type: 'list'"
     ]
    }
   ],
   "source": [
    "a = {[1,2,3],{1,2,3}} #list is mutable\n",
    "a"
   ]
  },
  {
   "cell_type": "code",
   "execution_count": null,
   "id": "dfaa094e",
   "metadata": {},
   "outputs": [],
   "source": [
    "# set inside set does not exit\n",
    "# issubset()\n",
    "# issuperset()\n",
    "# isdesjointset()"
   ]
  },
  {
   "cell_type": "code",
   "execution_count": 41,
   "id": "fda4e97e",
   "metadata": {},
   "outputs": [
    {
     "name": "stdout",
     "output_type": "stream",
     "text": [
      "enter name =apple\n",
      "enter quantity =2\n"
     ]
    },
    {
     "data": {
      "text/plain": [
       "46"
      ]
     },
     "execution_count": 41,
     "metadata": {},
     "output_type": "execute_result"
    }
   ],
   "source": [
    "a ={\"apple\":23,\"banana\":56}\n",
    "\n",
    "name =input(\"enter name =\").lower()\n",
    "quantity = int(input(\"enter quantity =\"))\n",
    "price =a[name]\n",
    "total = price*quantity\n",
    "total\n"
   ]
  },
  {
   "cell_type": "code",
   "execution_count": null,
   "id": "9cff554d",
   "metadata": {},
   "outputs": [],
   "source": []
  }
 ],
 "metadata": {
  "kernelspec": {
   "display_name": "Python 3 (ipykernel)",
   "language": "python",
   "name": "python3"
  },
  "language_info": {
   "codemirror_mode": {
    "name": "ipython",
    "version": 3
   },
   "file_extension": ".py",
   "mimetype": "text/x-python",
   "name": "python",
   "nbconvert_exporter": "python",
   "pygments_lexer": "ipython3",
   "version": "3.9.13"
  }
 },
 "nbformat": 4,
 "nbformat_minor": 5
}
