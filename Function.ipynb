{
 "cells": [
  {
   "cell_type": "code",
   "execution_count": null,
   "id": "8a85a542",
   "metadata": {},
   "outputs": [],
   "source": [
    "# user defined function\n",
    "# def <function_name>():\n",
    "#     <operations>\n",
    "    \n",
    "# <function_name>"
   ]
  },
  {
   "cell_type": "code",
   "execution_count": 1,
   "id": "d8ad28a9",
   "metadata": {},
   "outputs": [
    {
     "name": "stdout",
     "output_type": "stream",
     "text": [
      "Hello world\n"
     ]
    }
   ],
   "source": [
    "def hello():\n",
    "    print(\"Hello world\")\n",
    "hello()"
   ]
  },
  {
   "cell_type": "code",
   "execution_count": 6,
   "id": "3b19d31c",
   "metadata": {},
   "outputs": [
    {
     "name": "stdout",
     "output_type": "stream",
     "text": [
      "enter p =100\n",
      "enter t =24\n",
      "enter r =45\n",
      "1080.0\n"
     ]
    }
   ],
   "source": [
    "def cal():\n",
    "    p = int(input(\"enter p =\"))    #local variable\n",
    "    t = float(input(\"enter t =\"))   #local variable\n",
    "    r = float(input(\"enter r =\"))    #local variable\n",
    "    i = p*t*r/100\n",
    "    print(i)b\n",
    "    \n",
    "cal()"
   ]
  },
  {
   "cell_type": "code",
   "execution_count": null,
   "id": "9e3a8516",
   "metadata": {},
   "outputs": [],
   "source": [
    "# argument\n",
    "# return value\n"
   ]
  },
  {
   "cell_type": "code",
   "execution_count": null,
   "id": "d4f3de06",
   "metadata": {},
   "outputs": [],
   "source": [
    "# function without argument and no return type\n",
    "# function with argument and no return type\n",
    "# function without argument and  return type\n",
    "# function with argument and  return type"
   ]
  },
  {
   "cell_type": "code",
   "execution_count": 2,
   "id": "90d76d17",
   "metadata": {},
   "outputs": [
    {
     "name": "stdout",
     "output_type": "stream",
     "text": [
      "Hello world\n"
     ]
    }
   ],
   "source": [
    "# function with argument and no return type\n",
    "\n",
    "def hello(x):\n",
    "    print(x)\n",
    "    \n",
    "    \n",
    "hello(\"Hello world\") #argument"
   ]
  },
  {
   "cell_type": "code",
   "execution_count": 3,
   "id": "3d730a58",
   "metadata": {},
   "outputs": [
    {
     "name": "stdout",
     "output_type": "stream",
     "text": [
      "enter p =23\n",
      "enter t =34\n",
      "enter r =45\n"
     ]
    }
   ],
   "source": [
    "p = int(input(\"enter p =\"))    \n",
    "t = float(input(\"enter t =\"))  \n",
    "r = float(input(\"enter r =\"))\n",
    "\n",
    "def cal():\n",
    "    \n",
    "    i = p*t*r/100\n",
    "    \n",
    "    print(i)"
   ]
  },
  {
   "cell_type": "code",
   "execution_count": 11,
   "id": "fb484331",
   "metadata": {},
   "outputs": [
    {
     "name": "stdout",
     "output_type": "stream",
     "text": [
      "enter p =1000\n",
      "enter t =3\n",
      "enter r =4\n",
      "120.0\n"
     ]
    }
   ],
   "source": [
    "# function without argument and no return type\n",
    "\n",
    "def cal(p,t,r):\n",
    "    i = p*t*r/100\n",
    "    print(i)\n",
    "    \n",
    "    \n",
    "p = int(input(\"enter p =\"))    \n",
    "t = float(input(\"enter t =\"))   \n",
    "r = float(input(\"enter r =\")) \n",
    "\n",
    "\n",
    "cal(p,t,r)                             #p,t,r->argument"
   ]
  },
  {
   "cell_type": "code",
   "execution_count": 10,
   "id": "2fdd6485",
   "metadata": {},
   "outputs": [
    {
     "name": "stdout",
     "output_type": "stream",
     "text": [
      "enter p =1000\n",
      "enter t =3\n",
      "enter r =4\n",
      "120.0\n"
     ]
    }
   ],
   "source": [
    "# function without argument and no return type\n",
    "\n",
    "p = int(input(\"enter p =\"))  #global variable\n",
    "t = float(input(\"enter t =\")) #global variable\n",
    "r = float(input(\"enter r =\")) #global variable\n",
    "\n",
    "def cal(l):\n",
    "    x,y,z = l\n",
    "    i = p*t*r/100            #local variable\n",
    "    print(i)\n",
    "    \n",
    "l = [p,t,r]\n",
    "cal(l)                         #l->argument"
   ]
  },
  {
   "cell_type": "code",
   "execution_count": 12,
   "id": "4c616304",
   "metadata": {},
   "outputs": [
    {
     "name": "stdout",
     "output_type": "stream",
     "text": [
      "hello world\n"
     ]
    }
   ],
   "source": [
    "#return type\n",
    "def hello():\n",
    "    return\"hello world\"\n",
    "\n",
    "print(hello())"
   ]
  },
  {
   "cell_type": "code",
   "execution_count": 14,
   "id": "fe440c5f",
   "metadata": {},
   "outputs": [
    {
     "name": "stdout",
     "output_type": "stream",
     "text": [
      "hello world\n"
     ]
    }
   ],
   "source": [
    "#return type\n",
    "def hello():\n",
    "    return\"hello world\"\n",
    "x = hello()\n",
    "print(x)"
   ]
  },
  {
   "cell_type": "code",
   "execution_count": null,
   "id": "328b7494",
   "metadata": {},
   "outputs": [
    {
     "ename": "",
     "evalue": "",
     "output_type": "error",
     "traceback": [
      "\u001b[1;31mRunning cells with 'c:\\python\\python3104\\python.exe' requires ipykernel package.\n",
      "\u001b[1;31mRun the following command to install 'ipykernel' into the Python environment. \n",
      "\u001b[1;31mCommand: 'c:/python/python3104/python.exe -m pip install ipykernel -U --user --force-reinstall'"
     ]
    }
   ],
   "source": [
    "#return type\n",
    "def hello():\n",
    "    return\"hello world\"\n",
    "x = hello()\n",
    "print(x+ \" i am python\")"
   ]
  },
  {
   "cell_type": "code",
   "execution_count": 2,
   "id": "2bdd9769",
   "metadata": {},
   "outputs": [
    {
     "name": "stdout",
     "output_type": "stream",
     "text": [
      "enter l =10\n",
      "enter b =34\n",
      "enter h =45\n",
      "the volume =  15300\n"
     ]
    }
   ],
   "source": [
    "# function without argument and  return type\n",
    "\n",
    "def area():\n",
    "    l = int(input(\"enter l =\"))\n",
    "    b = int(input(\"enter b =\"))\n",
    "    a =l*b\n",
    "    return a\n",
    "\n",
    "ar = area()\n",
    "h = int(input(\"enter h =\"))\n",
    "v = ar*h\n",
    "print(\"the volume = \",v)\n"
   ]
  },
  {
   "cell_type": "code",
   "execution_count": 1,
   "id": "1a928099",
   "metadata": {},
   "outputs": [
    {
     "name": "stdout",
     "output_type": "stream",
     "text": [
      "enter l =10\n",
      "enter b =20\n",
      "enter h =50\n",
      "(200, 10000)\n",
      "area = 200\n",
      "volume = 10000\n"
     ]
    }
   ],
   "source": [
    "# function without argument and  return type\n",
    "\n",
    "def area():\n",
    "    l = int(input(\"enter l =\"))\n",
    "    b = int(input(\"enter b =\"))\n",
    "    h = int(input(\"enter h =\"))\n",
    "    a =l*b\n",
    "    v =a*h\n",
    "    return a,v\n",
    "\n",
    "ar = area()\n",
    "print(ar)\n",
    "x,y=ar\n",
    "print(\"area =\",x)\n",
    "print(\"volume =\",y)\n"
   ]
  },
  {
   "cell_type": "code",
   "execution_count": 3,
   "id": "d28b6b90",
   "metadata": {},
   "outputs": [
    {
     "name": "stdout",
     "output_type": "stream",
     "text": [
      "enter l =10\n",
      "enter b =20\n",
      "enter h =30\n",
      "(200, 6000)\n",
      "area = 200\n",
      "volume = 6000\n"
     ]
    }
   ],
   "source": [
    "def area(x,y,z):\n",
    "    \n",
    "    \n",
    "    a = x*y\n",
    "    v = a*z\n",
    "    return a,v\n",
    "\n",
    "\n",
    "l = int(input(\"enter l =\"))\n",
    "b = int(input(\"enter b =\"))\n",
    "h = int(input(\"enter h =\"))\n",
    "ar = area(l,b,h)\n",
    "\n",
    "print(ar)\n",
    "i,j = ar\n",
    "print(\"area =\",i)\n",
    "print(\"volume =\",j)"
   ]
  },
  {
   "cell_type": "code",
   "execution_count": 4,
   "id": "7ba8ca7e",
   "metadata": {},
   "outputs": [
    {
     "name": "stdout",
     "output_type": "stream",
     "text": [
      "C\n",
      "C++\n",
      "java\n",
      ".NET\n",
      "Python\n"
     ]
    }
   ],
   "source": [
    "def language(lan = \"Python\"):\n",
    "    print(lan)\n",
    "    \n",
    "language(\"C\")\n",
    "language(\"C++\")\n",
    "language(\"java\")\n",
    "language(\".NET\")\n",
    "language()"
   ]
  },
  {
   "cell_type": "code",
   "execution_count": 5,
   "id": "5a127d89",
   "metadata": {},
   "outputs": [
    {
     "name": "stdout",
     "output_type": "stream",
     "text": [
      "hello world\n",
      "hello world\n"
     ]
    }
   ],
   "source": [
    "def hello():\n",
    "    print(\"hello world\")\n",
    "    \n",
    "    \n",
    "hello()\n",
    "hello()"
   ]
  },
  {
   "cell_type": "code",
   "execution_count": 3,
   "id": "9921f7f6",
   "metadata": {},
   "outputs": [
    {
     "name": "stdout",
     "output_type": "stream",
     "text": [
      "Hello world\n",
      "enter for more print =3\n"
     ]
    }
   ],
   "source": [
    "def hello():\n",
    "    print(\"Hello world\")\n",
    "    x = input(\"enter for more print =\")\n",
    "    if x =='':\n",
    "        hello()\n",
    "        \n",
    "        \n",
    "        \n",
    "hello()\n",
    "        \n",
    "    \n",
    "\n"
   ]
  },
  {
   "cell_type": "code",
   "execution_count": 2,
   "id": "20d9ae4b",
   "metadata": {},
   "outputs": [
    {
     "name": "stdout",
     "output_type": "stream",
     "text": [
      "3.141592653589793\n"
     ]
    }
   ],
   "source": [
    "#math function\n",
    "import math as m\n",
    "print(m.pi)"
   ]
  },
  {
   "cell_type": "code",
   "execution_count": 4,
   "id": "0987cca1",
   "metadata": {},
   "outputs": [
    {
     "name": "stdout",
     "output_type": "stream",
     "text": [
      "enter r =100\n",
      "Area is = 31415.926535897932\n"
     ]
    }
   ],
   "source": [
    "r = int(input(\"enter r =\"))\n",
    "a = m.pi*m.pow(r,2)\n",
    "print(\"Area is =\",a)"
   ]
  },
  {
   "cell_type": "code",
   "execution_count": 7,
   "id": "ba0a9a69",
   "metadata": {},
   "outputs": [
    {
     "name": "stdout",
     "output_type": "stream",
     "text": [
      "enter mass =100\n",
      "enter acc = 23\n",
      "The value of f = 1626.3455967290595\n"
     ]
    }
   ],
   "source": [
    "# f = ma*sin(t)\n",
    "mass = float(input(\"enter mass =\"))\n",
    "acc = float(input(\"enter acc = \"))\n",
    "\n",
    "\n",
    "f = mass*acc*m.cos(m.pi/4)\n",
    "print(\"The value of f =\",f)"
   ]
  },
  {
   "cell_type": "code",
   "execution_count": null,
   "id": "81a2a39f",
   "metadata": {},
   "outputs": [],
   "source": []
  }
 ],
 "metadata": {
  "kernelspec": {
   "display_name": "Python 3",
   "language": "python",
   "name": "python3"
  },
  "language_info": {
   "codemirror_mode": {
    "name": "ipython",
    "version": 3
   },
   "file_extension": ".py",
   "mimetype": "text/x-python",
   "name": "python",
   "nbconvert_exporter": "python",
   "pygments_lexer": "ipython3",
   "version": "3.10.4 (tags/v3.10.4:9d38120, Mar 23 2022, 23:13:41) [MSC v.1929 64 bit (AMD64)]"
  },
  "vscode": {
   "interpreter": {
    "hash": "e027e9b9823ce6a9e0c9c877d53cd04ce062ace5f211db67d7ec11968ca34bb0"
   }
  }
 },
 "nbformat": 4,
 "nbformat_minor": 5
}
